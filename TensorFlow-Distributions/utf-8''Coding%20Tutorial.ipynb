{
 "cells": [
  {
   "cell_type": "code",
   "execution_count": 1,
   "metadata": {},
   "outputs": [
    {
     "name": "stdout",
     "output_type": "stream",
     "text": [
      "TF version: 2.1.0\n",
      "TFP version: 0.9.0\n"
     ]
    }
   ],
   "source": [
    "import tensorflow as tf\n",
    "import tensorflow_probability as tfp\n",
    "tfd = tfp.distributions\n",
    "\n",
    "print(\"TF version:\", tf.__version__)\n",
    "print(\"TFP version:\", tfp.__version__)"
   ]
  },
  {
   "cell_type": "code",
   "execution_count": 2,
   "metadata": {},
   "outputs": [],
   "source": [
    "# Additional imports and setting fixed random seed to have reproducibility\n",
    "\n",
    "import matplotlib.pyplot as plt\n",
    "import numpy as np\n",
    "tf.random.set_seed(123)"
   ]
  },
  {
   "cell_type": "markdown",
   "metadata": {},
   "source": [
    "# Tensorflow Distributions"
   ]
  },
  {
   "cell_type": "markdown",
   "metadata": {},
   "source": [
    "## Coding Tutorials\n",
    "#### 1. [Univariate Distributions](#univariate_distributions)\n",
    "#### 2. [Multivariate Distributions](#multivariate_distributions)\n",
    "#### 3. [The Independent Distribution](#the_independent_distribution)\n",
    "#### 4. [Sampling and log probs](#sampling_and_log_probs)\n",
    "#### 5. [Trainable Distributions](#trainable_distributions)"
   ]
  },
  {
   "cell_type": "markdown",
   "metadata": {},
   "source": [
    "***\n",
    "## Univariate distributions\n",
    "<a id='univariate_distributions'></a>"
   ]
  },
  {
   "cell_type": "code",
   "execution_count": 3,
   "metadata": {},
   "outputs": [
    {
     "data": {
      "text/plain": [
       "<tfp.distributions.Normal 'Normal' batch_shape=[] event_shape=[] dtype=float32>"
      ]
     },
     "execution_count": 3,
     "metadata": {},
     "output_type": "execute_result"
    }
   ],
   "source": [
    "# Create a normal distribution from Tensorflow Distributions\n",
    "normal = tfd.Normal(loc=0, scale=1)\n",
    "normal"
   ]
  },
  {
   "cell_type": "code",
   "execution_count": 4,
   "metadata": {},
   "outputs": [
    {
     "data": {
      "text/plain": [
       "<tf.Tensor: shape=(), dtype=float32, numpy=-0.8980837>"
      ]
     },
     "execution_count": 4,
     "metadata": {},
     "output_type": "execute_result"
    }
   ],
   "source": [
    "# Sample from the chosen distribution...\n",
    "normal.sample()\n"
   ]
  },
  {
   "cell_type": "code",
   "execution_count": 5,
   "metadata": {},
   "outputs": [
    {
     "data": {
      "text/plain": [
       "<tf.Tensor: shape=(10,), dtype=float32, numpy=\n",
       "array([ 0.33875433,  0.3449861 , -0.6605785 , -0.2854994 ,  0.43852386,\n",
       "        0.8288566 , -0.53591555, -0.5353483 , -1.0324248 , -2.942705  ],\n",
       "      dtype=float32)>"
      ]
     },
     "execution_count": 5,
     "metadata": {},
     "output_type": "execute_result"
    }
   ],
   "source": [
    "# ... or sample multiple times\n",
    "normal.sample(10)\n"
   ]
  },
  {
   "cell_type": "code",
   "execution_count": 7,
   "metadata": {},
   "outputs": [
    {
     "data": {
      "text/plain": [
       "<tf.Tensor: shape=(), dtype=float32, numpy=0.3989423>"
      ]
     },
     "execution_count": 7,
     "metadata": {},
     "output_type": "execute_result"
    }
   ],
   "source": [
    "# Obtain value of probability's density\n",
    "\n",
    "normal.prob(0)"
   ]
  },
  {
   "cell_type": "code",
   "execution_count": 8,
   "metadata": {},
   "outputs": [
    {
     "data": {
      "text/plain": [
       "<tf.Tensor: shape=(), dtype=float32, numpy=-0.9189385>"
      ]
     },
     "execution_count": 8,
     "metadata": {},
     "output_type": "execute_result"
    }
   ],
   "source": [
    "# Obtain value of logprobability\n",
    "\n",
    "normal.log_prob(0)"
   ]
  },
  {
   "cell_type": "code",
   "execution_count": 9,
   "metadata": {},
   "outputs": [
    {
     "data": {
      "text/plain": [
       "-0.9189385"
      ]
     },
     "execution_count": 9,
     "metadata": {},
     "output_type": "execute_result"
    }
   ],
   "source": [
    "# Verify that this really is the log of the probability\n",
    "\n",
    "np.log(normal.prob(0))"
   ]
  },
  {
   "cell_type": "code",
   "execution_count": 10,
   "metadata": {},
   "outputs": [
    {
     "data": {
      "image/png": "[encoded data removed]",
      "text/plain": [
       "<Figure size 432x288 with 1 Axes>"
      ]
     },
     "metadata": {
      "needs_background": "light"
     },
     "output_type": "display_data"
    }
   ],
   "source": [
    "# Plot a histogram, approximating the density\n",
    "\n",
    "plt.hist(normal.sample(10000), bins=50, density=True)\n",
    "plt.show()"
   ]
  },
  {
   "cell_type": "code",
   "execution_count": 11,
   "metadata": {},
   "outputs": [
    {
     "data": {
      "image/png": "[encoded data removed]",
      "text/plain": [
       "<Figure size 432x288 with 1 Axes>"
      ]
     },
     "metadata": {
      "needs_background": "light"
     },
     "output_type": "display_data"
    }
   ],
   "source": [
    "# Do the same for the exponential distribution\n",
    "exponential = tfd.Exponential(rate=1)\n",
    "plt.hist(exponential.sample(10000), bins=50, density=True)\n",
    "plt.show()"
   ]
  },
  {
   "cell_type": "code",
   "execution_count": 12,
   "metadata": {},
   "outputs": [
    {
     "data": {
      "text/plain": [
       "<tf.Tensor: shape=(10,), dtype=float32, numpy=\n",
       "array([0.03463974, 0.35604942, 1.5253357 , 2.7293916 , 1.5241107 ,\n",
       "       1.5624828 , 0.32680708, 0.6846045 , 0.30692586, 2.707749  ],\n",
       "      dtype=float32)>"
      ]
     },
     "execution_count": 12,
     "metadata": {},
     "output_type": "execute_result"
    }
   ],
   "source": [
    "# Sample as before\n",
    "\n",
    "exponential.sample(10)"
   ]
  },
  {
   "cell_type": "code",
   "execution_count": 13,
   "metadata": {},
   "outputs": [
    {
     "data": {
      "text/plain": [
       "<tf.Tensor: shape=(10,), dtype=int32, numpy=array([1, 0, 1, 1, 1, 1, 0, 1, 1, 0], dtype=int32)>"
      ]
     },
     "execution_count": 13,
     "metadata": {},
     "output_type": "execute_result"
    }
   ],
   "source": [
    "# Create a Bernoulli distribution (discrete)\n",
    "bernoulli = tfd.Bernoulli(probs=0.8)\n",
    "bernoulli.sample(10)"
   ]
  },
  {
   "cell_type": "markdown",
   "metadata": {},
   "source": [
    "#### A word of caution on discrete distributions"
   ]
  },
  {
   "cell_type": "code",
   "execution_count": 14,
   "metadata": {},
   "outputs": [
    {
     "name": "stdout",
     "output_type": "stream",
     "text": [
      "prob result 0.19999998807907104 for k = 0 \n",
      "prob result 0.3999999761581421 for k = 0.5 \n",
      "prob result 0.800000011920929 for k = 1 \n",
      "prob result 0.04999999701976776 for k = -1 \n"
     ]
    }
   ],
   "source": [
    "# Calculate Bernoulli prob and see that 0.5 and -1 do not give the correct probability!\n",
    "\n",
    "for k in [0,0.5,1,-1]:\n",
    "    print('prob result {} for k = {} '.format(bernoulli.prob(k), k))"
   ]
  },
  {
   "cell_type": "code",
   "execution_count": 15,
   "metadata": {},
   "outputs": [],
   "source": [
    "# Replicate the scores to see what is occurring under the hood\n",
    "\n",
    "def my_bernoulli(p_success, k):\n",
    "    return np.power(p_success,k)*np.power((1-p_success),(1-k))"
   ]
  },
  {
   "cell_type": "code",
   "execution_count": 16,
   "metadata": {},
   "outputs": [
    {
     "name": "stdout",
     "output_type": "stream",
     "text": [
      "prob result 0.19999999999999996 for k = 0 \n",
      "prob result 0.3999999999999999 for k = 0.5 \n",
      "prob result 0.8 for k = 1 \n",
      "prob result 0.049999999999999975 for k = -1 \n"
     ]
    }
   ],
   "source": [
    "# Evaluate it as before\n",
    "\n",
    "for k in [0,0.5,1,-1]:\n",
    "    print('prob result {} for k = {} '.format(my_bernoulli(p_success=0.8,k=k), k))"
   ]
  },
  {
   "cell_type": "markdown",
   "metadata": {},
   "source": [
    "#### Work with batch distributions"
   ]
  },
  {
   "cell_type": "code",
   "execution_count": 17,
   "metadata": {},
   "outputs": [
    {
     "data": {
      "text/plain": [
       "<tfp.distributions.Bernoulli 'Bernoulli' batch_shape=[5] event_shape=[] dtype=int32>"
      ]
     },
     "execution_count": 17,
     "metadata": {},
     "output_type": "execute_result"
    }
   ],
   "source": [
    "# Create a batched Bernoulli distribution\n",
    "\n",
    "bernoulli_batch = tfd.Bernoulli(probs=[0.1, 0.25, 0.5, 0.75, 0.9])\n",
    "bernoulli_batch"
   ]
  },
  {
   "cell_type": "code",
   "execution_count": 18,
   "metadata": {},
   "outputs": [
    {
     "data": {
      "text/plain": [
       "<tf.Tensor: shape=(5, 5), dtype=int32, numpy=\n",
       "array([[0, 0, 1, 0, 1],\n",
       "       [0, 0, 1, 0, 1],\n",
       "       [0, 0, 1, 1, 1],\n",
       "       [0, 0, 1, 1, 1],\n",
       "       [0, 0, 1, 1, 0]], dtype=int32)>"
      ]
     },
     "execution_count": 18,
     "metadata": {},
     "output_type": "execute_result"
    }
   ],
   "source": [
    "# Sample from it, noting the shape\n",
    "\n",
    "bernoulli_batch.sample(5)"
   ]
  },
  {
   "cell_type": "code",
   "execution_count": 19,
   "metadata": {},
   "outputs": [
    {
     "data": {
      "text/plain": [
       "<tfp.distributions.Bernoulli 'Bernoulli' batch_shape=[1, 3, 2] event_shape=[] dtype=int32>"
      ]
     },
     "execution_count": 19,
     "metadata": {},
     "output_type": "execute_result"
    }
   ],
   "source": [
    "# Use a batch shape with higher rank\n",
    "\n",
    "probs = [[[0.5, 0.5], \n",
    "          [0.8, 0.3], \n",
    "          [0.25, 0.75]]]\n",
    "bernoulli_batch_2D = tfd.Bernoulli(probs=probs)\n",
    "bernoulli_batch_2D"
   ]
  },
  {
   "cell_type": "code",
   "execution_count": 20,
   "metadata": {},
   "outputs": [
    {
     "data": {
      "text/plain": [
       "<tf.Tensor: shape=(5, 1, 3, 2), dtype=int32, numpy=\n",
       "array([[[[0, 1],\n",
       "         [1, 1],\n",
       "         [1, 1]]],\n",
       "\n",
       "\n",
       "       [[[1, 0],\n",
       "         [1, 0],\n",
       "         [0, 1]]],\n",
       "\n",
       "\n",
       "       [[[1, 0],\n",
       "         [1, 1],\n",
       "         [0, 1]]],\n",
       "\n",
       "\n",
       "       [[[1, 1],\n",
       "         [1, 0],\n",
       "         [0, 1]]],\n",
       "\n",
       "\n",
       "       [[[1, 0],\n",
       "         [1, 0],\n",
       "         [0, 1]]]], dtype=int32)>"
      ]
     },
     "execution_count": 20,
     "metadata": {},
     "output_type": "execute_result"
    }
   ],
   "source": [
    "# Sample from this batch of distributions\n",
    "\n",
    "bernoulli_batch_2D.sample(5)"
   ]
  },
  {
   "cell_type": "code",
   "execution_count": 21,
   "metadata": {},
   "outputs": [
    {
     "data": {
      "text/plain": [
       "<tf.Tensor: shape=(1, 3, 2), dtype=float32, numpy=\n",
       "array([[[0.5       , 0.5       ],\n",
       "        [0.19999999, 0.7       ],\n",
       "        [0.25      , 0.75      ]]], dtype=float32)>"
      ]
     },
     "execution_count": 21,
     "metadata": {},
     "output_type": "execute_result"
    }
   ],
   "source": [
    "# Determine probabilities from this batch distribution\n",
    "\n",
    "bernoulli_batch_2D.prob([[[1, 0], \n",
    "                         [0, 0], \n",
    "                         [1, 1]]])"
   ]
  },
  {
   "cell_type": "markdown",
   "metadata": {},
   "source": [
    "***\n",
    "<a id='multivariate_distributions'></a>\n",
    "## Multivariate Distributions\n"
   ]
  },
  {
   "cell_type": "markdown",
   "metadata": {},
   "source": [
    "#### Basic multivariate distributions"
   ]
  },
  {
   "cell_type": "code",
   "execution_count": 4,
   "metadata": {},
   "outputs": [
    {
     "data": {
      "text/plain": [
       "<tfp.distributions.MultivariateNormalDiag 'MultivariateNormalDiag' batch_shape=[] event_shape=[2] dtype=float32>"
      ]
     },
     "execution_count": 4,
     "metadata": {},
     "output_type": "execute_result"
    }
   ],
   "source": [
    "# Define 2D multivariate Gaussian with diagonal covariance matrix\n",
    "\n",
    "normal_diag = tfd.MultivariateNormalDiag(loc=[0, 1], scale_diag=[1, 2])\n",
    "normal_diag"
   ]
  },
  {
   "cell_type": "code",
   "execution_count": 5,
   "metadata": {},
   "outputs": [
    {
     "data": {
      "text/plain": [
       "<tf.Tensor: shape=(10, 2), dtype=float32, numpy=\n",
       "array([[-0.8980837 , -2.6518288 ],\n",
       "       [-0.44441807, -1.9765894 ],\n",
       "       [-0.7855463 ,  1.3923931 ],\n",
       "       [ 0.17604655, -2.050501  ],\n",
       "       [ 0.635294  ,  2.3362408 ],\n",
       "       [ 1.4230527 ,  1.0912329 ],\n",
       "       [-0.21692705, -2.416981  ],\n",
       "       [ 0.5174161 ,  0.76055366],\n",
       "       [-1.0614088 , -0.08182514],\n",
       "       [ 0.08606925, -1.5563867 ]], dtype=float32)>"
      ]
     },
     "execution_count": 5,
     "metadata": {},
     "output_type": "execute_result"
    }
   ],
   "source": [
    "# Sample from it\n",
    "\n",
    "normal_diag.sample(10)"
   ]
  },
  {
   "cell_type": "code",
   "execution_count": 6,
   "metadata": {},
   "outputs": [
    {
     "data": {
      "image/png": "[encoded data removed]",
      "text/plain": [
       "<Figure size 432x288 with 1 Axes>"
      ]
     },
     "metadata": {
      "needs_background": "light"
     },
     "output_type": "display_data"
    }
   ],
   "source": [
    "# Make a plot\n",
    "\n",
    "plt_sample = normal_diag.sample(10000)\n",
    "plt.scatter(plt_sample[:, 0], plt_sample[:, 1], marker='.', alpha=0.05)\n",
    "plt.axis('equal')\n",
    "plt.show()"
   ]
  },
  {
   "cell_type": "markdown",
   "metadata": {},
   "source": [
    "#### Batches of multivariate distributions"
   ]
  },
  {
   "cell_type": "code",
   "execution_count": 7,
   "metadata": {},
   "outputs": [
    {
     "data": {
      "text/plain": [
       "<tfp.distributions.MultivariateNormalDiag 'MultivariateNormalDiag' batch_shape=[3] event_shape=[2] dtype=float32>"
      ]
     },
     "execution_count": 7,
     "metadata": {},
     "output_type": "execute_result"
    }
   ],
   "source": [
    "# Create three \"batches\" of multivariate normals\n",
    "\n",
    "normal_diag_batch = tfd.MultivariateNormalDiag(loc=[[0, 0], [0, 0], [0, 0]], \n",
    "                                               scale_diag=[[1, 2], [2, 1], [2, 2]])\n",
    "normal_diag_batch"
   ]
  },
  {
   "cell_type": "code",
   "execution_count": 8,
   "metadata": {},
   "outputs": [
    {
     "data": {
      "text/plain": [
       "<tf.Tensor: shape=(5, 3, 2), dtype=float32, numpy=\n",
       "array([[[-0.61346006, -2.0512335 ],\n",
       "        [-2.3505633 , -0.79817134],\n",
       "        [ 0.62080306, -0.6253187 ]],\n",
       "\n",
       "       [[ 0.86418086, -0.04171393],\n",
       "        [-0.186402  , -1.1740862 ],\n",
       "        [-0.82934326, -1.3611844 ]],\n",
       "\n",
       "       [[-0.11699341, -0.8769344 ],\n",
       "        [ 0.29075438, -1.7982906 ],\n",
       "        [ 2.0847454 ,  0.85152024]],\n",
       "\n",
       "       [[-0.65798914,  4.206198  ],\n",
       "        [ 1.0173634 , -0.2013694 ],\n",
       "        [-0.55932915,  3.0747736 ]],\n",
       "\n",
       "       [[-1.3815433 , -3.108612  ],\n",
       "        [-2.4537148 , -1.9476261 ],\n",
       "        [ 1.3766359 , -1.0911019 ]]], dtype=float32)>"
      ]
     },
     "execution_count": 8,
     "metadata": {},
     "output_type": "execute_result"
    }
   ],
   "source": [
    "# Sample from it\n",
    "\n",
    "samples = normal_diag_batch.sample(5)\n",
    "samples"
   ]
  },
  {
   "cell_type": "code",
   "execution_count": 9,
   "metadata": {},
   "outputs": [
    {
     "data": {
      "text/plain": [
       "<tf.Tensor: shape=(5, 3), dtype=float32, numpy=\n",
       "array([[-3.2451358, -3.5402064, -3.321224 ],\n",
       "       [-2.904646 , -3.2246065, -3.5417504],\n",
       "       [-2.6339948, -4.158516 , -3.8580778],\n",
       "       [-4.9590125, -2.6806777, -4.4450564],\n",
       "       [-4.693289 , -5.1802373, -3.6098752]], dtype=float32)>"
      ]
     },
     "execution_count": 9,
     "metadata": {},
     "output_type": "execute_result"
    }
   ],
   "source": [
    "# Compute log probs\n",
    "\n",
    "normal_diag_batch.log_prob(samples)"
   ]
  },
  {
   "cell_type": "code",
   "execution_count": 10,
   "metadata": {},
   "outputs": [
    {
     "data": {
      "text/plain": [
       "TensorShape([10000, 3, 2])"
      ]
     },
     "execution_count": 10,
     "metadata": {},
     "output_type": "execute_result"
    }
   ],
   "source": [
    "# Create a sample for a plot -- notice the shape\n",
    "\n",
    "plt_sample_batch = normal_diag_batch.sample(10000)\n",
    "plt_sample_batch.shape"
   ]
  },
  {
   "cell_type": "code",
   "execution_count": 11,
   "metadata": {},
   "outputs": [
    {
     "data": {
      "image/png": "[encoded data removed]",
      "text/plain": [
       "<Figure size 720x216 with 3 Axes>"
      ]
     },
     "metadata": {
      "needs_background": "light"
     },
     "output_type": "display_data"
    }
   ],
   "source": [
    "# Plot samples from the batched multivariate Gaussian\n",
    "\n",
    "fig, axs = (plt.subplots(1, 3, sharex=True, sharey=True, figsize=(10, 3)))\n",
    "titles = ['cov_diag=[1, 2]','cov_diag=[2, 1]', 'cov_diag=[2, 2]']\n",
    "\n",
    "for i, (ax, title) in enumerate(zip(axs,titles)):\n",
    "    samples = plt_sample_batch[:,i,:] #take the ith batch [samples x event_shape]\n",
    "    ax.scatter(samples[:, 0], samples[:, 1], marker='.', alpha=0.05)\n",
    "    ax.set_title(title)\n",
    "plt.show()"
   ]
  },
  {
   "cell_type": "markdown",
   "metadata": {},
   "source": [
    "\n",
    "\n",
    "***\n",
    "<a id='the_independent_distribution'></a>\n",
    "## The Independent Distribution"
   ]
  },
  {
   "cell_type": "code",
   "execution_count": 3,
   "metadata": {},
   "outputs": [
    {
     "data": {
      "text/plain": [
       "<tfp.distributions.Normal 'Normal' batch_shape=[2] event_shape=[] dtype=float32>"
      ]
     },
     "execution_count": 3,
     "metadata": {},
     "output_type": "execute_result"
    }
   ],
   "source": [
    "# Start by defining a batch of two univariate Gaussians, then\n",
    "# combine them into a bivariate Gaussian with independent components\n",
    "locs = [-1., 1]\n",
    "scales = [0.5, 1.]\n",
    "batch_of_normals = tfd.Normal(loc=locs, scale=scales)\n",
    "batch_of_normals"
   ]
  },
  {
   "cell_type": "code",
   "execution_count": 4,
   "metadata": {},
   "outputs": [
    {
     "data": {
      "image/png": "[encoded data removed]",
      "text/plain": [
       "<Figure size 432x288 with 1 Axes>"
      ]
     },
     "metadata": {
      "needs_background": "light"
     },
     "output_type": "display_data"
    }
   ],
   "source": [
    "# Univariate density functions\n",
    "\n",
    "import seaborn as sns\n",
    "\n",
    "t = np.linspace(-4, 4, 10000)\n",
    "densities = batch_of_normals.prob(np.repeat(t[:, np.newaxis], 2, axis=1)) # each column is a vector of densities for one distn\n",
    "\n",
    "sns.lineplot(t, densities[:, 0], label='loc={}, scale={}'.format(locs[0], scales[0]))\n",
    "sns.lineplot(t, densities[:, 1], label='loc={}, scale={}'.format(locs[1], scales[1]))\n",
    "plt.ylabel('Probability density')\n",
    "plt.xlabel('Value')\n",
    "plt.legend()\n",
    "plt.show()"
   ]
  },
  {
   "cell_type": "code",
   "execution_count": 5,
   "metadata": {},
   "outputs": [
    {
     "data": {
      "text/plain": [
       "<tfp.distributions.Normal 'Normal' batch_shape=[2] event_shape=[] dtype=float32>"
      ]
     },
     "execution_count": 5,
     "metadata": {},
     "output_type": "execute_result"
    }
   ],
   "source": [
    "# Check their batch_shape and event_shape\n",
    "\n",
    "batch_of_normals"
   ]
  },
  {
   "cell_type": "code",
   "execution_count": 6,
   "metadata": {},
   "outputs": [],
   "source": [
    "# Use Independent to convert the batch shape to the event shape\n",
    "\n",
    "bivariate_normal_from_Independent = tfd.Independent(batch_of_normals, reinterpreted_batch_ndims=1)"
   ]
  },
  {
   "cell_type": "code",
   "execution_count": 7,
   "metadata": {},
   "outputs": [
    {
     "data": {
      "text/plain": [
       "<tfp.distributions.Independent 'IndependentNormal' batch_shape=[] event_shape=[2] dtype=float32>"
      ]
     },
     "execution_count": 7,
     "metadata": {},
     "output_type": "execute_result"
    }
   ],
   "source": [
    "# Note that dimension from batch_shape has shifted to event_shape\n",
    "\n",
    "bivariate_normal_from_Independent"
   ]
  },
  {
   "cell_type": "code",
   "execution_count": 8,
   "metadata": {},
   "outputs": [
    {
     "data": {
      "text/plain": [
       "<seaborn.axisgrid.JointGrid at 0x7f1878050748>"
      ]
     },
     "execution_count": 8,
     "metadata": {},
     "output_type": "execute_result"
    },
    {
     "data": {
      "image/png": "[encoded data removed]",
      "text/plain": [
       "<Figure size 432x432 with 3 Axes>"
      ]
     },
     "metadata": {
      "needs_background": "light"
     },
     "output_type": "display_data"
    }
   ],
   "source": [
    "# Create a plot showing joint density contours and marginal density functions\n",
    "\n",
    "samples = bivariate_normal_from_Independent.sample(10000)\n",
    "x1 = samples[:, 0]\n",
    "x2 = samples[:, 1]\n",
    "sns.jointplot(x1, x2, kind=\"kde\", space=0, color='b', xlim=[-4, 4], ylim=[-4, 4])"
   ]
  },
  {
   "cell_type": "code",
   "execution_count": 9,
   "metadata": {},
   "outputs": [
    {
     "data": {
      "text/plain": [
       "<tfp.distributions.MultivariateNormalDiag 'MultivariateNormalDiag' batch_shape=[] event_shape=[2] dtype=float32>"
      ]
     },
     "execution_count": 9,
     "metadata": {},
     "output_type": "execute_result"
    }
   ],
   "source": [
    "# Use MultivariateNormalDiag to create the equivalent distribution\n",
    "# Note that diagonal covariance matrix => no correlation => independence (for the multivariate normal distribution)\n",
    "bivariate_normal_from_Multivariate = tfd.MultivariateNormalDiag(loc=locs, scale_diag=scales)\n",
    "bivariate_normal_from_Multivariate"
   ]
  },
  {
   "cell_type": "code",
   "execution_count": 10,
   "metadata": {},
   "outputs": [
    {
     "data": {
      "text/plain": [
       "<seaborn.axisgrid.JointGrid at 0x7f1824026c18>"
      ]
     },
     "execution_count": 10,
     "metadata": {},
     "output_type": "execute_result"
    },
    {
     "data": {
      "image/png": "[encoded data removed]",
      "text/plain": [
       "<Figure size 432x432 with 3 Axes>"
      ]
     },
     "metadata": {
      "needs_background": "light"
     },
     "output_type": "display_data"
    }
   ],
   "source": [
    "# Plot the joint density function of bivariate_normal_from_Independent\n",
    "# Refer back to bivariate_normal_from_Independent to show that the plot is the same\n",
    "# Summarise how Independent has been used\n",
    "\n",
    "samples = bivariate_normal_from_Multivariate.sample(10000)\n",
    "x1 = samples[:, 0]\n",
    "x2 = samples[:, 1]\n",
    "sns.jointplot(x1, x2, kind=\"kde\", space=0, color='b', xlim=[-4, 4], ylim=[-4, 4])"
   ]
  },
  {
   "cell_type": "markdown",
   "metadata": {},
   "source": [
    "#### Shifting batch dimensions to event dimensions using \n",
    "`reinterpreted_batch_ndims`"
   ]
  },
  {
   "cell_type": "code",
   "execution_count": 11,
   "metadata": {},
   "outputs": [],
   "source": [
    "# Demonstrate use of reinterpreted_batch_ndims\n",
    "# By default all batch dims except the first are transferred to event dims\n",
    "\n",
    "loc_grid = [[-100., -100.],\n",
    "            [100., 100.],\n",
    "            [0., 0.]]\n",
    "scale_grid = [[1., 10.],\n",
    "              [1., 10.],\n",
    "              [1., 1.]]\n",
    "\n",
    "normals_batch_3by2_event_1 = tfd.Normal(loc=loc_grid, scale=scale_grid)"
   ]
  },
  {
   "cell_type": "code",
   "execution_count": 12,
   "metadata": {},
   "outputs": [
    {
     "data": {
      "text/plain": [
       "<tfp.distributions.Normal 'Normal' batch_shape=[3, 2] event_shape=[] dtype=float32>"
      ]
     },
     "execution_count": 12,
     "metadata": {},
     "output_type": "execute_result"
    }
   ],
   "source": [
    "# Highlight batch_shape\n",
    "\n",
    "normals_batch_3by2_event_1"
   ]
  },
  {
   "cell_type": "code",
   "execution_count": 15,
   "metadata": {},
   "outputs": [
    {
     "data": {
      "text/plain": [
       "<tfp.distributions.Independent 'IndependentNormal' batch_shape=[3] event_shape=[2] dtype=float32>"
      ]
     },
     "execution_count": 15,
     "metadata": {},
     "output_type": "execute_result"
    }
   ],
   "source": [
    "# We now have a batch of 3 bivariate normal distributions,\n",
    "# each parametrised by a column of our original parameter grid\n",
    "\n",
    "normals_batch_3_event_2 = tfd.Independent(normals_batch_3by2_event_1)\n",
    "normals_batch_3_event_2"
   ]
  },
  {
   "cell_type": "code",
   "execution_count": 16,
   "metadata": {},
   "outputs": [
    {
     "data": {
      "text/plain": [
       "<tf.Tensor: shape=(3,), dtype=float32, numpy=array([-4.1146406e+03, -4.1404624e+00, -2.8378770e+00], dtype=float32)>"
      ]
     },
     "execution_count": 16,
     "metadata": {},
     "output_type": "execute_result"
    }
   ],
   "source": [
    "# Evaluate log_prob\n",
    "\n",
    "normals_batch_3_event_2.log_prob(value=[[-10., 10.], [100., 100.], [1., 1.]])"
   ]
  },
  {
   "cell_type": "code",
   "execution_count": 17,
   "metadata": {},
   "outputs": [
    {
     "data": {
      "text/plain": [
       "<tfp.distributions.Independent 'IndependentNormal' batch_shape=[] event_shape=[3, 2] dtype=float32>"
      ]
     },
     "execution_count": 17,
     "metadata": {},
     "output_type": "execute_result"
    }
   ],
   "source": [
    "# Can reinterpret _all_ batch dimensions as event dimensions\n",
    "\n",
    "normals_batch_1_event_3by2 = tfd.Independent(normals_batch_3by2_event_1, reinterpreted_batch_ndims=2)\n",
    "normals_batch_1_event_3by2"
   ]
  },
  {
   "cell_type": "code",
   "execution_count": 18,
   "metadata": {},
   "outputs": [
    {
     "data": {
      "text/plain": [
       "<tf.Tensor: shape=(), dtype=float32, numpy=-4121.619>"
      ]
     },
     "execution_count": 18,
     "metadata": {},
     "output_type": "execute_result"
    }
   ],
   "source": [
    "# Take log_probs \n",
    "\n",
    "normals_batch_1_event_3by2.log_prob(value=[[-10., 10.], [100., 100.], [1., 1.]])"
   ]
  },
  {
   "cell_type": "markdown",
   "metadata": {},
   "source": [
    "#### Using `Independent` to build a Naive Bayes classifier"
   ]
  },
  {
   "cell_type": "markdown",
   "metadata": {},
   "source": [
    "#### Introduction to `newsgroups` data set"
   ]
  },
  {
   "cell_type": "markdown",
   "metadata": {},
   "source": [
    "In this tutorial, just load the dataset, fetch train/test splits, probably choose a subset of the data.\n",
    "\n",
    "Construct the class conditional feature distribution (with Independent, using the Naive Bayes assumption) and sample from it.\n",
    "\n",
    "We can just use the ML estimates for parameters, in later tutorials we will learn them."
   ]
  },
  {
   "cell_type": "code",
   "execution_count": 3,
   "metadata": {},
   "outputs": [],
   "source": [
    "# Convenience function for retrieving the 20 newsgroups data set\n",
    "\n",
    "# Usenet was a forerunner to modern internet forums\n",
    "# Users could post and read articles\n",
    "# Newsgroup corresponded to a topic\n",
    "# Example topics in this data set: IBM computer hardware, baseball\n",
    "# Our objective is to use an article's contents to predict its newsgroup,\n",
    "# a 20-class classification problem.\n",
    "\n",
    "# 18000 newsgroups, posts on 20 topics\n",
    "from sklearn.datasets import fetch_20newsgroups\n",
    "from sklearn.feature_extraction.text import CountVectorizer\n"
   ]
  },
  {
   "cell_type": "code",
   "execution_count": 4,
   "metadata": {},
   "outputs": [],
   "source": [
    "# Get the train data\n",
    "newsgroups_data = fetch_20newsgroups(data_home='20_Newsgroup_Data/', subset='train')\n"
   ]
  },
  {
   "cell_type": "code",
   "execution_count": 5,
   "metadata": {},
   "outputs": [
    {
     "name": "stdout",
     "output_type": "stream",
     "text": [
      ".. _20newsgroups_dataset:\n",
      "\n",
      "The 20 newsgroups text dataset\n",
      "------------------------------\n",
      "\n",
      "The 20 newsgroups dataset comprises around 18000 newsgroups posts on\n",
      "20 topics split in two subsets: one for training (or development)\n",
      "and the other one for testing (or for performance evaluation). The split\n",
      "between the train and test set is based upon a messages posted before\n",
      "and after a specific date.\n",
      "\n",
      "This module contains two loaders. The first one,\n",
      ":func:`sklearn.datasets.fetch_20newsgroups`,\n",
      "returns a list of the raw texts that can be fed to text feature\n",
      "extractors such as :class:`sklearn.feature_extraction.text.CountVectorizer`\n",
      "with custom parameters so as to extract feature vectors.\n",
      "The second one, :func:`sklearn.datasets.fetch_20newsgroups_vectorized`,\n",
      "returns ready-to-use features, i.e., it is not necessary to use a feature\n",
      "extractor.\n",
      "\n",
      "**Data Set Characteristics:**\n",
      "\n",
      "    =================   ==========\n",
      "    Classes                     20\n",
      "    Samples total            18846\n",
      "    Dimensionality               1\n",
      "    Features                  text\n",
      "    =================   ==========\n",
      "\n",
      "Usage\n",
      "~~~~~\n",
      "\n",
      "The :func:`sklearn.datasets.fetch_20newsgroups` function is a data\n",
      "fetching / caching functions that downloads the data archive from\n",
      "the original `20 newsgroups website`_, extracts the archive contents\n",
      "in the ``~/scikit_learn_data/20news_home`` folder and calls the\n",
      ":func:`sklearn.datasets.load_files` on either the training or\n",
      "testing set folder, or both of them::\n",
      "\n",
      "  >>> from sklearn.datasets import fetch_20newsgroups\n",
      "  >>> newsgroups_train = fetch_20newsgroups(subset='train')\n",
      "\n",
      "  >>> from pprint import pprint\n",
      "  >>> pprint(list(newsgroups_train.target_names))\n",
      "  ['alt.atheism',\n",
      "   'comp.graphics',\n",
      "   'comp.os.ms-windows.misc',\n",
      "   'comp.sys.ibm.pc.hardware',\n",
      "   'comp.sys.mac.hardware',\n",
      "   'comp.windows.x',\n",
      "   'misc.forsale',\n",
      "   'rec.autos',\n",
      "   'rec.motorcycles',\n",
      "   'rec.sport.baseball',\n",
      "   'rec.sport.hockey',\n",
      "   'sci.crypt',\n",
      "   'sci.electronics',\n",
      "   'sci.med',\n",
      "   'sci.space',\n",
      "   'soc.religion.christian',\n",
      "   'talk.politics.guns',\n",
      "   'talk.politics.mideast',\n",
      "   'talk.politics.misc',\n",
      "   'talk.religion.misc']\n",
      "\n",
      "The real data lies in the ``filenames`` and ``target`` attributes. The target\n",
      "attribute is the integer index of the category::\n",
      "\n",
      "  >>> newsgroups_train.filenames.shape\n",
      "  (11314,)\n",
      "  >>> newsgroups_train.target.shape\n",
      "  (11314,)\n",
      "  >>> newsgroups_train.target[:10]\n",
      "  array([ 7,  4,  4,  1, 14, 16, 13,  3,  2,  4])\n",
      "\n",
      "It is possible to load only a sub-selection of the categories by passing the\n",
      "list of the categories to load to the\n",
      ":func:`sklearn.datasets.fetch_20newsgroups` function::\n",
      "\n",
      "  >>> cats = ['alt.atheism', 'sci.space']\n",
      "  >>> newsgroups_train = fetch_20newsgroups(subset='train', categories=cats)\n",
      "\n",
      "  >>> list(newsgroups_train.target_names)\n",
      "  ['alt.atheism', 'sci.space']\n",
      "  >>> newsgroups_train.filenames.shape\n",
      "  (1073,)\n",
      "  >>> newsgroups_train.target.shape\n",
      "  (1073,)\n",
      "  >>> newsgroups_train.target[:10]\n",
      "  array([0, 1, 1, 1, 0, 1, 1, 0, 0, 0])\n",
      "\n",
      "Converting text to vectors\n",
      "~~~~~~~~~~~~~~~~~~~~~~~~~~\n",
      "\n",
      "In order to feed predictive or clustering models with the text data,\n",
      "one first need to turn the text into vectors of numerical values suitable\n",
      "for statistical analysis. This can be achieved with the utilities of the\n",
      "``sklearn.feature_extraction.text`` as demonstrated in the following\n",
      "example that extract `TF-IDF`_ vectors of unigram tokens\n",
      "from a subset of 20news::\n",
      "\n",
      "  >>> from sklearn.feature_extraction.text import TfidfVectorizer\n",
      "  >>> categories = ['alt.atheism', 'talk.religion.misc',\n",
      "  ...               'comp.graphics', 'sci.space']\n",
      "  >>> newsgroups_train = fetch_20newsgroups(subset='train',\n",
      "  ...                                       categories=categories)\n",
      "  >>> vectorizer = TfidfVectorizer()\n",
      "  >>> vectors = vectorizer.fit_transform(newsgroups_train.data)\n",
      "  >>> vectors.shape\n",
      "  (2034, 34118)\n",
      "\n",
      "The extracted TF-IDF vectors are very sparse, with an average of 159 non-zero\n",
      "components by sample in a more than 30000-dimensional space\n",
      "(less than .5% non-zero features)::\n",
      "\n",
      "  >>> vectors.nnz / float(vectors.shape[0])       # doctest: +ELLIPSIS\n",
      "  159.01327...\n",
      "\n",
      ":func:`sklearn.datasets.fetch_20newsgroups_vectorized` is a function which \n",
      "returns ready-to-use token counts features instead of file names.\n",
      "\n",
      ".. _`20 newsgroups website`: http://people.csail.mit.edu/jrennie/20Newsgroups/\n",
      ".. _`TF-IDF`: https://en.wikipedia.org/wiki/Tf-idf\n",
      "\n",
      "\n",
      "Filtering text for more realistic training\n",
      "~~~~~~~~~~~~~~~~~~~~~~~~~~~~~~~~~~~~~~~~~~\n",
      "\n",
      "It is easy for a classifier to overfit on particular things that appear in the\n",
      "20 Newsgroups data, such as newsgroup headers. Many classifiers achieve very\n",
      "high F-scores, but their results would not generalize to other documents that\n",
      "aren't from this window of time.\n",
      "\n",
      "For example, let's look at the results of a multinomial Naive Bayes classifier,\n",
      "which is fast to train and achieves a decent F-score::\n",
      "\n",
      "  >>> from sklearn.naive_bayes import MultinomialNB\n",
      "  >>> from sklearn import metrics\n",
      "  >>> newsgroups_test = fetch_20newsgroups(subset='test',\n",
      "  ...                                      categories=categories)\n",
      "  >>> vectors_test = vectorizer.transform(newsgroups_test.data)\n",
      "  >>> clf = MultinomialNB(alpha=.01)\n",
      "  >>> clf.fit(vectors, newsgroups_train.target)\n",
      "  MultinomialNB(alpha=0.01, class_prior=None, fit_prior=True)\n",
      "\n",
      "  >>> pred = clf.predict(vectors_test)\n",
      "  >>> metrics.f1_score(newsgroups_test.target, pred, average='macro')  # doctest: +ELLIPSIS\n",
      "  0.88213...\n",
      "\n",
      "(The example :ref:`sphx_glr_auto_examples_text_plot_document_classification_20newsgroups.py` shuffles\n",
      "the training and test data, instead of segmenting by time, and in that case\n",
      "multinomial Naive Bayes gets a much higher F-score of 0.88. Are you suspicious\n",
      "yet of what's going on inside this classifier?)\n",
      "\n",
      "Let's take a look at what the most informative features are:\n",
      "\n",
      "  >>> import numpy as np\n",
      "  >>> def show_top10(classifier, vectorizer, categories):\n",
      "  ...     feature_names = np.asarray(vectorizer.get_feature_names())\n",
      "  ...     for i, category in enumerate(categories):\n",
      "  ...         top10 = np.argsort(classifier.coef_[i])[-10:]\n",
      "  ...         print(\"%s: %s\" % (category, \" \".join(feature_names[top10])))\n",
      "  ...\n",
      "  >>> show_top10(clf, vectorizer, newsgroups_train.target_names)\n",
      "  alt.atheism: edu it and in you that is of to the\n",
      "  comp.graphics: edu in graphics it is for and of to the\n",
      "  sci.space: edu it that is in and space to of the\n",
      "  talk.religion.misc: not it you in is that and to of the\n",
      "\n",
      "\n",
      "You can now see many things that these features have overfit to:\n",
      "\n",
      "- Almost every group is distinguished by whether headers such as\n",
      "  ``NNTP-Posting-Host:`` and ``Distribution:`` appear more or less often.\n",
      "- Another significant feature involves whether the sender is affiliated with\n",
      "  a university, as indicated either by their headers or their signature.\n",
      "- The word \"article\" is a significant feature, based on how often people quote\n",
      "  previous posts like this: \"In article [article ID], [name] <[e-mail address]>\n",
      "  wrote:\"\n",
      "- Other features match the names and e-mail addresses of particular people who\n",
      "  were posting at the time.\n",
      "\n",
      "With such an abundance of clues that distinguish newsgroups, the classifiers\n",
      "barely have to identify topics from text at all, and they all perform at the\n",
      "same high level.\n",
      "\n",
      "For this reason, the functions that load 20 Newsgroups data provide a\n",
      "parameter called **remove**, telling it what kinds of information to strip out\n",
      "of each file. **remove** should be a tuple containing any subset of\n",
      "``('headers', 'footers', 'quotes')``, telling it to remove headers, signature\n",
      "blocks, and quotation blocks respectively.\n",
      "\n",
      "  >>> newsgroups_test = fetch_20newsgroups(subset='test',\n",
      "  ...                                      remove=('headers', 'footers', 'quotes'),\n",
      "  ...                                      categories=categories)\n",
      "  >>> vectors_test = vectorizer.transform(newsgroups_test.data)\n",
      "  >>> pred = clf.predict(vectors_test)\n",
      "  >>> metrics.f1_score(pred, newsgroups_test.target, average='macro')  # doctest: +ELLIPSIS\n",
      "  0.77310...\n",
      "\n",
      "This classifier lost over a lot of its F-score, just because we removed\n",
      "metadata that has little to do with topic classification.\n",
      "It loses even more if we also strip this metadata from the training data:\n",
      "\n",
      "  >>> newsgroups_train = fetch_20newsgroups(subset='train',\n",
      "  ...                                       remove=('headers', 'footers', 'quotes'),\n",
      "  ...                                       categories=categories)\n",
      "  >>> vectors = vectorizer.fit_transform(newsgroups_train.data)\n",
      "  >>> clf = MultinomialNB(alpha=.01)\n",
      "  >>> clf.fit(vectors, newsgroups_train.target)\n",
      "  MultinomialNB(alpha=0.01, class_prior=None, fit_prior=True)\n",
      "\n",
      "  >>> vectors_test = vectorizer.transform(newsgroups_test.data)\n",
      "  >>> pred = clf.predict(vectors_test)\n",
      "  >>> metrics.f1_score(newsgroups_test.target, pred, average='macro')  # doctest: +ELLIPSIS\n",
      "  0.76995...\n",
      "\n",
      "Some other classifiers cope better with this harder version of the task. Try\n",
      "running :ref:`sphx_glr_auto_examples_model_selection_grid_search_text_feature_extraction.py` with and without\n",
      "the ``--filter`` option to compare the results.\n",
      "\n",
      ".. topic:: Recommendation\n",
      "\n",
      "  When evaluating text classifiers on the 20 Newsgroups data, you\n",
      "  should strip newsgroup-related metadata. In scikit-learn, you can do this by\n",
      "  setting ``remove=('headers', 'footers', 'quotes')``. The F-score will be\n",
      "  lower because it is more realistic.\n",
      "\n",
      ".. topic:: Examples\n",
      "\n",
      "   * :ref:`sphx_glr_auto_examples_model_selection_grid_search_text_feature_extraction.py`\n",
      "\n",
      "   * :ref:`sphx_glr_auto_examples_text_plot_document_classification_20newsgroups.py`\n",
      "\n"
     ]
    }
   ],
   "source": [
    "# More information about the data set\n",
    "\n",
    "print(newsgroups_data['DESCR'])"
   ]
  },
  {
   "cell_type": "code",
   "execution_count": 6,
   "metadata": {},
   "outputs": [
    {
     "name": "stdout",
     "output_type": "stream",
     "text": [
      "<class 'list'>\n",
      "11314\n",
      "From: lerxst@wam.umd.edu (where's my thing)\n",
      "Subject: WHAT car is this!?\n",
      "Nntp-Posting-Host: rac3.wam.umd.edu\n",
      "Organization: University of Maryland, College Park\n",
      "Lines: 15\n",
      "\n",
      " I was wondering if anyone out there could enlighten me on this car I saw\n",
      "the other day. It was a 2-door sports car, looked to be from the late 60s/\n",
      "early 70s. It was called a Bricklin. The doors were really small. In addition,\n",
      "the front bumper was separate from the rest of the body. This is \n",
      "all I know. If anyone can tellme a model name, engine specs, years\n",
      "of production, where this car is made, history, or whatever info you\n",
      "have on this funky looking car, please e-mail.\n",
      "\n",
      "Thanks,\n",
      "- IL\n",
      "   ---- brought to you by your neighborhood Lerxst ----\n",
      "\n",
      "\n",
      "\n",
      "\n",
      "\n"
     ]
    }
   ],
   "source": [
    "# Example article\n",
    "\n",
    "print(type(newsgroups_data['data']))\n",
    "print(len(newsgroups_data['data']))\n",
    "print(newsgroups_data['data'][0])"
   ]
  },
  {
   "cell_type": "code",
   "execution_count": 7,
   "metadata": {},
   "outputs": [
    {
     "name": "stdout",
     "output_type": "stream",
     "text": [
      "7\n"
     ]
    }
   ],
   "source": [
    "# Associated label\n",
    "\n",
    "print(newsgroups_data['target'][0])"
   ]
  },
  {
   "cell_type": "code",
   "execution_count": 8,
   "metadata": {},
   "outputs": [
    {
     "data": {
      "text/plain": [
       "'alt.atheism'"
      ]
     },
     "execution_count": 8,
     "metadata": {},
     "output_type": "execute_result"
    }
   ],
   "source": [
    "# Name of label\n",
    "\n",
    "newsgroups_data['target_names'][0]"
   ]
  },
  {
   "cell_type": "code",
   "execution_count": 9,
   "metadata": {},
   "outputs": [
    {
     "name": "stdout",
     "output_type": "stream",
     "text": [
      "number of documents: 11314\n"
     ]
    }
   ],
   "source": [
    "# Preprocessing boilerplate\n",
    "\n",
    "n_documents = len(newsgroups_data['data'])\n",
    "print(f'number of documents: {n_documents}')\n",
    "\n",
    "count_vectorizer = CountVectorizer(input='content', binary=True,\n",
    "                                   max_df=0.25, min_df=1.01/n_documents) # ignore common words, words that appear once\n",
    "binary_bag_of_words = count_vectorizer.fit_transform(newsgroups_data['data']) # input is a list of strings\n"
   ]
  },
  {
   "cell_type": "code",
   "execution_count": 10,
   "metadata": {},
   "outputs": [
    {
     "name": "stdout",
     "output_type": "stream",
     "text": [
      "<class 'scipy.sparse.csr.csr_matrix'>\n",
      "(11314, 56365)\n"
     ]
    }
   ],
   "source": [
    "# Check shape\n",
    "print(type(binary_bag_of_words))\n",
    "print(binary_bag_of_words.shape)"
   ]
  },
  {
   "cell_type": "code",
   "execution_count": 11,
   "metadata": {},
   "outputs": [
    {
     "data": {
      "text/plain": [
       "[array(['lerxst', 'wam', 'umd', 'where', 'thing', 'car', 'rac3',\n",
       "        'maryland', 'college', 'park', '15', 'wondering', 'anyone',\n",
       "        'could', 'enlighten', 'saw', 'day', 'door', 'sports', 'looked',\n",
       "        'late', '60s', 'early', '70s', 'called', 'bricklin', 'doors',\n",
       "        'were', 'really', 'small', 'addition', 'front', 'bumper',\n",
       "        'separate', 'rest', 'body', 'tellme', 'model', 'name', 'engine',\n",
       "        'specs', 'years', 'production', 'made', 'history', 'whatever',\n",
       "        'info', 'funky', 'looking', 'please', 'mail', 'thanks', 'il',\n",
       "        'brought', 'neighborhood'], dtype='<U80')]"
      ]
     },
     "execution_count": 11,
     "metadata": {},
     "output_type": "execute_result"
    }
   ],
   "source": [
    "# Check that the fit has been successful\n",
    "\n",
    "count_vectorizer.inverse_transform(binary_bag_of_words[0, :])"
   ]
  },
  {
   "cell_type": "code",
   "execution_count": 12,
   "metadata": {},
   "outputs": [
    {
     "name": "stdout",
     "output_type": "stream",
     "text": [
      "56365\n"
     ]
    },
    {
     "data": {
      "text/plain": [
       "{31701: 'lerxst',\n",
       " 53950: 'wam',\n",
       " 51879: 'umd',\n",
       " 54371: 'where',\n",
       " 50255: 'thing',\n",
       " 13607: 'car',\n",
       " 42078: 'rac3',\n",
       " 33453: 'maryland',\n",
       " 15293: 'college',\n",
       " 38822: 'park',\n",
       " 1412: '15',\n",
       " 54828: 'wondering',\n",
       " 9213: 'anyone',\n",
       " 16472: 'could',\n",
       " 21034: 'enlighten',\n",
       " 45006: 'saw',\n",
       " 17643: 'day',\n",
       " 19514: 'door',\n",
       " 47623: 'sports',\n",
       " 32330: 'looked',\n",
       " 31356: 'late',\n",
       " 5135: '60s',\n",
       " 20173: 'early',\n",
       " 5639: '70s',\n",
       " 13411: 'called',\n",
       " 12437: 'bricklin',\n",
       " 19516: 'doors',\n",
       " 54277: 'were',\n",
       " 42523: 'really',\n",
       " 46842: 'small',\n",
       " 7905: 'addition',\n",
       " 23639: 'front',\n",
       " 12770: 'bumper',\n",
       " 45705: 'separate',\n",
       " 43490: 'rest',\n",
       " 11973: 'body',\n",
       " 49889: 'tellme',\n",
       " 35014: 'model',\n",
       " 36078: 'name',\n",
       " 20995: 'engine',\n",
       " 47438: 'specs',\n",
       " 55820: 'years',\n",
       " 41015: 'production',\n",
       " 32954: 'made',\n",
       " 26465: 'history',\n",
       " 54347: 'whatever',\n",
       " 28171: 'info',\n",
       " 23782: 'funky',\n",
       " 32332: 'looking',\n",
       " 40028: 'please',\n",
       " 33027: 'mail',\n",
       " 50121: 'thanks',\n",
       " 27557: 'il',\n",
       " 12556: 'brought',\n",
       " 36384: 'neighborhood',\n",
       " 25411: 'guykuo',\n",
       " 13716: 'carson',\n",
       " 54034: 'washington',\n",
       " 25409: 'guy',\n",
       " 31029: 'kuo',\n",
       " 46304: 'si',\n",
       " 15013: 'clock',\n",
       " 40237: 'poll',\n",
       " 22779: 'final',\n",
       " 13405: 'call',\n",
       " 48811: 'summary',\n",
       " 43285: 'reports',\n",
       " 30461: 'keywords',\n",
       " 7629: 'acceleration',\n",
       " 52512: 'upgrade',\n",
       " 46053: 'shelley',\n",
       " 789: '11',\n",
       " 22220: 'fair',\n",
       " 37198: 'number',\n",
       " 12337: 'brave',\n",
       " 47242: 'souls',\n",
       " 52514: 'upgraded',\n",
       " 50146: 'their',\n",
       " 38162: 'oscillator',\n",
       " 45974: 'shared',\n",
       " 21881: 'experiences',\n",
       " 45654: 'send',\n",
       " 12446: 'brief',\n",
       " 34175: 'message',\n",
       " 18440: 'detailing',\n",
       " 40971: 'procedure',\n",
       " 50745: 'top',\n",
       " 47467: 'speed',\n",
       " 10082: 'attained',\n",
       " 16606: 'cpu',\n",
       " 42316: 'rated',\n",
       " 7892: 'add',\n",
       " 13643: 'cards',\n",
       " 7882: 'adapters',\n",
       " 26036: 'heat',\n",
       " 46506: 'sinks',\n",
       " 26851: 'hour',\n",
       " 52600: 'usage',\n",
       " 39274: 'per',\n",
       " 23040: 'floppy',\n",
       " 19039: 'disk',\n",
       " 23759: 'functionality',\n",
       " 6122: '800',\n",
       " 23039: 'floppies',\n",
       " 21411: 'especially',\n",
       " 43343: 'requested',\n",
       " 48810: 'summarizing',\n",
       " 36591: 'next',\n",
       " 51538: 'two',\n",
       " 17651: 'days',\n",
       " 36481: 'network',\n",
       " 30787: 'knowledge',\n",
       " 10848: 'base',\n",
       " 19485: 'done',\n",
       " 25910: 'haven',\n",
       " 9127: 'answered',\n",
       " 20242: 'ec',\n",
       " 20284: 'ecn',\n",
       " 41525: 'purdue',\n",
       " 50287: 'thomas',\n",
       " 54563: 'willis',\n",
       " 39064: 'pb',\n",
       " 41898: 'questions',\n",
       " 20998: 'engineering',\n",
       " 15671: 'computer',\n",
       " 19195: 'distribution',\n",
       " 52597: 'usa',\n",
       " 3880: '36',\n",
       " 54255: 'well',\n",
       " 23170: 'folks',\n",
       " 32860: 'mac',\n",
       " 40090: 'plus',\n",
       " 22781: 'finally',\n",
       " 24129: 'gave',\n",
       " 24425: 'ghost',\n",
       " 54200: 'weekend',\n",
       " 8183: 'after',\n",
       " 47983: 'starting',\n",
       " 31903: 'life',\n",
       " 4707: '512k',\n",
       " 54101: 'way',\n",
       " 10536: 'back',\n",
       " 2082: '1985',\n",
       " 47198: 'sooo',\n",
       " 33362: 'market',\n",
       " 36531: 'new',\n",
       " 32888: 'machine',\n",
       " 11648: 'bit',\n",
       " 47197: 'sooner',\n",
       " 50113: 'than',\n",
       " 28514: 'intended',\n",
       " 28692: 'into',\n",
       " 39716: 'picking',\n",
       " 40496: 'powerbook',\n",
       " 1554: '160',\n",
       " 33628: 'maybe',\n",
       " 1813: '180',\n",
       " 12777: 'bunch',\n",
       " 26749: 'hopefully',\n",
       " 47151: 'somebody',\n",
       " 9126: 'answer',\n",
       " 19411: 'does',\n",
       " 9206: 'anybody',\n",
       " 18861: 'dirt',\n",
       " 44321: 'round',\n",
       " 21855: 'expected',\n",
       " 26020: 'heard',\n",
       " 48979: 'supposed',\n",
       " 33091: 'make',\n",
       " 9324: 'appearence',\n",
       " 48813: 'summer',\n",
       " 9212: 'anymore',\n",
       " 46472: 'since',\n",
       " 7647: 'access',\n",
       " 32913: 'macleak',\n",
       " 25530: 'had',\n",
       " 44513: 'rumors',\n",
       " 40846: 'price',\n",
       " 19781: 'drops',\n",
       " 32007: 'line',\n",
       " 37807: 'ones',\n",
       " 19966: 'duo',\n",
       " 54273: 'went',\n",
       " 50357: 'through',\n",
       " 42602: 'recently',\n",
       " 27798: 'impression',\n",
       " 19099: 'display',\n",
       " 40949: 'probably',\n",
       " 49229: 'swing',\n",
       " 24829: 'got',\n",
       " 6179: '80mb',\n",
       " 42319: 'rather',\n",
       " 949: '120',\n",
       " 22498: 'feel',\n",
       " 35623: 'much',\n",
       " 11387: 'better',\n",
       " 55814: 'yea',\n",
       " 32334: 'looks',\n",
       " 25041: 'great',\n",
       " 48308: 'store',\n",
       " 54943: 'wow',\n",
       " 24780: 'good',\n",
       " 47119: 'solicit',\n",
       " 37909: 'opinions',\n",
       " 39266: 'people',\n",
       " 52610: 'use',\n",
       " 29103: 'its',\n",
       " 54924: 'worth',\n",
       " 49530: 'taking',\n",
       " 46570: 'size',\n",
       " 35143: 'money',\n",
       " 26466: 'hit',\n",
       " 7827: 'active',\n",
       " 42518: 'realize',\n",
       " 42503: 'real',\n",
       " 48589: 'subjective',\n",
       " 41887: 'question',\n",
       " 53077: 've',\n",
       " 40006: 'played',\n",
       " 9661: 'around',\n",
       " 32892: 'machines',\n",
       " 12387: 'breifly',\n",
       " 22721: 'figured',\n",
       " 7843: 'actually',\n",
       " 52627: 'uses',\n",
       " 17390: 'daily',\n",
       " 34459: 'might',\n",
       " 41288: 'prove',\n",
       " 26149: 'helpful',\n",
       " 26129: 'hellcats',\n",
       " 39305: 'perform',\n",
       " 8037: 'advance',\n",
       " 20711: 'email',\n",
       " 32170: 'll',\n",
       " 40420: 'post',\n",
       " 36559: 'news',\n",
       " 42489: 'reading',\n",
       " 50496: 'time',\n",
       " 40721: 'premium',\n",
       " 22782: 'finals',\n",
       " 16361: 'corner',\n",
       " 50675: 'tom',\n",
       " 20583: 'electrical',\n",
       " 16240: 'convictions',\n",
       " 17462: 'dangerous',\n",
       " 20956: 'enemies',\n",
       " 51319: 'truth',\n",
       " 31897: 'lies',\n",
       " 36709: 'nietzsche',\n",
       " 29516: 'jgreen',\n",
       " 8767: 'amber',\n",
       " 29668: 'joe',\n",
       " 25057: 'green',\n",
       " 54240: 'weitek',\n",
       " 38546: 'p9000',\n",
       " 25828: 'harris',\n",
       " 49372: 'systems',\n",
       " 19252: 'division',\n",
       " 1252: '14',\n",
       " 54895: 'world',\n",
       " 47814: 'ssd',\n",
       " 16961: 'csd',\n",
       " 36579: 'newsreader',\n",
       " 50529: 'tin',\n",
       " 53215: 'version',\n",
       " 39929: 'pl9',\n",
       " 44104: 'robert',\n",
       " 31068: 'kyanko',\n",
       " 44091: 'rob',\n",
       " 43967: 'rjck',\n",
       " 52725: 'uucp',\n",
       " 55014: 'wrote',\n",
       " 7541: 'abraxis',\n",
       " 27302: 'iastate',\n",
       " 5753: '734340159',\n",
       " 14865: 'class1',\n",
       " 24992: 'graphics',\n",
       " 14477: 'chip',\n",
       " 22309: 'far',\n",
       " 32430: 'low',\n",
       " 31740: 'level',\n",
       " 48522: 'stuff',\n",
       " 24724: 'goes',\n",
       " 40818: 'pretty',\n",
       " 36658: 'nice',\n",
       " 41805: 'quadrilateral',\n",
       " 22757: 'fill',\n",
       " 15407: 'command',\n",
       " 43351: 'requires',\n",
       " 23392: 'four',\n",
       " 40184: 'points',\n",
       " 7912: 'address',\n",
       " 39625: 'phone',\n",
       " 28187: 'information',\n",
       " 16379: 'corporation',\n",
       " 45096: 'scares',\n",
       " 39397: 'person',\n",
       " 45671: 'sense',\n",
       " 27046: 'humor',\n",
       " 29739: 'jonathan',\n",
       " 54661: 'winters',\n",
       " 29363: 'jcm',\n",
       " 25980: 'head',\n",
       " 14133: 'cfa',\n",
       " 25846: 'harvard',\n",
       " 33737: 'mcdowell',\n",
       " 46292: 'shuttle',\n",
       " 31394: 'launch',\n",
       " 46889: 'smithsonian',\n",
       " 9964: 'astrophysical',\n",
       " 37438: 'observatory',\n",
       " 13447: 'cambridge',\n",
       " 32844: 'ma',\n",
       " 45216: 'sci',\n",
       " 2958: '23',\n",
       " 48050: 'std',\n",
       " 50684: 'tombaker',\n",
       " 10634: 'baker',\n",
       " 13143: 'c5jlwx',\n",
       " 4552: '4h9',\n",
       " 16939: 'cs',\n",
       " 15118: 'cmu',\n",
       " 21516: 'etrat',\n",
       " 51370: 'ttacs1',\n",
       " 51386: 'ttu',\n",
       " 38574: 'pack',\n",
       " 42313: 'rat',\n",
       " 14909: 'clear',\n",
       " 13854: 'caution',\n",
       " 54003: 'warning',\n",
       " 34072: 'memory',\n",
       " 53192: 'verify',\n",
       " 52114: 'unexpected',\n",
       " 21346: 'errors',\n",
       " 8735: 'am',\n",
       " 21345: 'error',\n",
       " 47228: 'sorry',\n",
       " 19940: 'dumb',\n",
       " 38821: 'parity',\n",
       " 40838: 'previously',\n",
       " 30791: 'known',\n",
       " 15783: 'conditions',\n",
       " 53902: 'waivered',\n",
       " 55845: 'yes',\n",
       " 8677: 'already',\n",
       " 30759: 'knew',\n",
       " 17121: 'curious',\n",
       " 33882: 'meaning',\n",
       " 41953: 'quote',\n",
       " 52059: 'understanding',\n",
       " 10870: 'basically',\n",
       " 12711: 'bugs',\n",
       " 49365: 'system',\n",
       " 47088: 'software',\n",
       " 50257: 'things',\n",
       " 14341: 'checked',\n",
       " 43846: 'right',\n",
       " 52929: 'values',\n",
       " 55851: 'yet',\n",
       " 11079: 'because',\n",
       " 9539: 'aren',\n",
       " 45803: 'set',\n",
       " 50486: 'till',\n",
       " 48717: 'suchlike',\n",
       " 22896: 'fix',\n",
       " 15185: 'code',\n",
       " 40418: 'possibly',\n",
       " 28718: 'introduce',\n",
       " 49886: 'tell',\n",
       " 16740: 'crew',\n",
       " 37694: 'ok',\n",
       " 45529: 'see',\n",
       " 2782: '213',\n",
       " 11130: 'before',\n",
       " 31918: 'liftoff',\n",
       " 27494: 'ignore',\n",
       " 18568: 'dfo',\n",
       " 53683: 'vttoulu',\n",
       " 50591: 'tko',\n",
       " 53682: 'vtt',\n",
       " 22663: 'fi',\n",
       " 23407: 'foxvog',\n",
       " 19587: 'douglas',\n",
       " 43694: 'rewording',\n",
       " 45483: 'second',\n",
       " 8793: 'amendment',\n",
       " 27399: 'ideas',\n",
       " 4909: '58',\n",
       " 4606: '4t',\n",
       " 50990: 'transfer',\n",
       " 48377: 'stratus',\n",
       " 13995: 'cdt',\n",
       " 49135: 'sw',\n",
       " 49679: 'tavares',\n",
       " 2123: '1993apr20',\n",
       " 396: '083057',\n",
       " 1659: '16899',\n",
       " 38243: 'ousrvr',\n",
       " 38235: 'oulu',\n",
       " 2444: '1qv87v',\n",
       " 4560: '4j3',\n",
       " 13186: 'c5n3gi',\n",
       " 22117: 'f8f',\n",
       " 51837: 'ulowell',\n",
       " 29854: 'jrutledg',\n",
       " 29691: 'john',\n",
       " 31433: 'lawrence',\n",
       " 44568: 'rutledge',\n",
       " 33488: 'massive',\n",
       " 18430: 'destructive',\n",
       " 40493: 'power',\n",
       " 33277: 'many',\n",
       " 35031: 'modern',\n",
       " 54160: 'weapons',\n",
       " 33099: 'makes',\n",
       " 16449: 'cost',\n",
       " 7658: 'accidental',\n",
       " 16755: 'crimial',\n",
       " 50217: 'these',\n",
       " 33473: 'mass',\n",
       " 18429: 'destruction',\n",
       " 36334: 'need',\n",
       " 16184: 'control',\n",
       " 24864: 'government',\n",
       " 28041: 'individual',\n",
       " 43527: 'result',\n",
       " 36340: 'needless',\n",
       " 17754: 'deaths',\n",
       " 34555: 'millions',\n",
       " 30322: 'keep',\n",
       " 11040: 'bear',\n",
       " 36911: 'non',\n",
       " 21816: 'existant',\n",
       " 48015: 'stating',\n",
       " 15402: 'coming',\n",
       " 45015: 'say',\n",
       " 18880: 'disagree',\n",
       " 21624: 'every',\n",
       " 16484: 'count',\n",
       " 11201: 'believe',\n",
       " 28045: 'individuals',\n",
       " 46211: 'should',\n",
       " 38466: 'own',\n",
       " 22792: 'find',\n",
       " 25767: 'hard',\n",
       " 48970: 'support',\n",
       " 36383: 'neighbor',\n",
       " 37174: 'nuclear',\n",
       " 11600: 'biological',\n",
       " 36432: 'nerve',\n",
       " 24077: 'gas',\n",
       " 26449: 'his',\n",
       " 26203: 'her',\n",
       " 41174: 'property',\n",
       " 13532: 'cannot',\n",
       " 21600: 'even',\n",
       " 8254: 'agree',\n",
       " 30325: 'keeping',\n",
       " 25710: 'hands',\n",
       " 26746: 'hope',\n",
       " 52596: 'us',\n",
       " 46363: 'sign',\n",
       " 11735: 'blank',\n",
       " 14351: 'checks',\n",
       " 16529: 'course',\n",
       " 49974: 'term',\n",
       " 35794: 'must',\n",
       " 43860: 'rigidly',\n",
       " 17980: 'defined',\n",
       " 11533: 'bill',\n",
       " 19578: 'doug',\n",
       " 45021: 'says',\n",
       " 25977: 'he',\n",
       " 33888: 'means',\n",
       " 13923: 'cbw',\n",
       " 37189: 'nukes',\n",
       " 44909: 'sarah',\n",
       " 12292: 'brady',\n",
       " 46021: 'she',\n",
       " 48397: 'street',\n",
       " 49196: 'sweeper',\n",
       " 46207: 'shotguns',\n",
       " 45629: 'semi',\n",
       " 10254: 'automatic',\n",
       " 46656: 'sks',\n",
       " 43839: 'rifles',\n",
       " 19568: 'doubt',\n",
       " 52635: 'using',\n",
       " 8577: 'allegedly',\n",
       " 50164: 'then',\n",
       " 27659: 'immediately',\n",
       " 23178: 'follows',\n",
       " 50322: 'thousands',\n",
       " 30556: 'killed',\n",
       " 20146: 'each',\n",
       " 55817: 'year',\n",
       " 25689: 'handguns',\n",
       " 20198: 'easily',\n",
       " 42780: 'reduced',\n",
       " 41583: 'putting',\n",
       " 42544: 'reasonable',\n",
       " 43518: 'restrictions',\n",
       " 50155: 'them',\n",
       " 33881: 'mean',\n",
       " 42480: 'read',\n",
       " 40761: 'presenting',\n",
       " 22859: 'first',\n",
       " 9571: 'argument',\n",
       " 15476: 'commonly',\n",
       " 52063: 'understood',\n",
       " 49242: 'switching',\n",
       " 50753: 'topics',\n",
       " 40177: 'point',\n",
       " 21642: 'evidently',\n",
       " 46229: 'show',\n",
       " 8624: 'allowed',\n",
       " 31361: 'later',\n",
       " 8923: 'analysis',\n",
       " 24517: 'given',\n",
       " 15976: 'consider',\n",
       " 9117: 'another',\n",
       " 14864: 'class',\n",
       " 44139: 'rocket',\n",
       " 47391: 'speak',\n",
       " 15511: 'company',\n",
       " 53621: 'vos',\n",
       " 54995: 'write',\n",
       " 50642: 'today',\n",
       " 47403: 'special',\n",
       " 28788: 'investors',\n",
       " 38583: 'packet',\n",
       " 11892: 'bmdelane',\n",
       " 41807: 'quads',\n",
       " 51704: 'uchicago',\n",
       " 12419: 'brian',\n",
       " 33239: 'manning',\n",
       " 18058: 'delaney',\n",
       " 12298: 'brain',\n",
       " 51431: 'tumor',\n",
       " 51117: 'treatment',\n",
       " 43272: 'reply',\n",
       " 34451: 'midway',\n",
       " 14434: 'chicago',\n",
       " 948: '12',\n",
       " 22627: 'few',\n",
       " 43473: 'responded',\n",
       " 43342: 'request',\n",
       " 54451: 'whom',\n",
       " 16474: 'couldn',\n",
       " 50116: 'thank',\n",
       " 18852: 'directly',\n",
       " 12201: 'bouncing',\n",
       " 40964: 'probs',\n",
       " 45445: 'sean',\n",
       " 17772: 'debra',\n",
       " 45986: 'sharon',\n",
       " 50316: 'thought',\n",
       " 41434: 'publicly',\n",
       " 21628: 'everyone',\n",
       " 49009: 'sure',\n",
       " 24547: 'glad',\n",
       " 7659: 'accidentally',\n",
       " 44050: 'rn',\n",
       " 28427: 'instead',\n",
       " 44023: 'rm',\n",
       " 51330: 'trying',\n",
       " 18073: 'delete',\n",
       " 22735: 'file',\n",
       " 31341: 'last',\n",
       " 45727: 'september',\n",
       " 26527: 'hmmm',\n",
       " 11427: 'bgrubb',\n",
       " 17484: 'dante',\n",
       " 36849: 'nmsu',\n",
       " 25196: 'grubb',\n",
       " 27391: 'ide',\n",
       " 53665: 'vs',\n",
       " 45365: 'scsi',\n",
       " 34257: 'mexico',\n",
       " 48000: 'state',\n",
       " 31327: 'las',\n",
       " 16858: 'cruces',\n",
       " 36841: 'nm',\n",
       " 4320: '44',\n",
       " 20048: 'dxb132',\n",
       " 41370: 'psuvm',\n",
       " 41367: 'psu',\n",
       " 2393: '1qlbrlinn7rk',\n",
       " 19359: 'dns1',\n",
       " 39080: 'pc',\n",
       " 32975: 'magazine',\n",
       " 9429: 'april',\n",
       " 3244: '27',\n",
       " 2099: '1993',\n",
       " 3367: '29',\n",
       " 8710: 'although',\n",
       " 51518: 'twice',\n",
       " 22364: 'fasst',\n",
       " 21398: 'esdi',\n",
       " 2578: '20',\n",
       " 22371: 'faster',\n",
       " 18528: 'devices',\n",
       " 7642: 'acceptance',\n",
       " 32315: 'long',\n",
       " 11112: 'been',\n",
       " 47907: 'stalled',\n",
       " 27914: 'incompatability',\n",
       " 40962: 'problems',\n",
       " 28414: 'installation',\n",
       " 25982: 'headaches',\n",
       " 32417: 'love',\n",
       " 54998: 'writers',\n",
       " 48540: 'stupid',\n",
       " 48005: 'statements',\n",
       " 39308: 'performance',\n",
       " 50311: 'those',\n",
       " 37202: 'numbers',\n",
       " 32076: 'list',\n",
       " 7840: 'actual',\n",
       " 42262: 'ranges',\n",
       " 16242: 'convince',\n",
       " 48716: 'such',\n",
       " 48004: 'statement',\n",
       " 7581: 'absurd',\n",
       " 5027: '5mb',\n",
       " 27515: 'ii',\n",
       " 4223: '40mb',\n",
       " 4106: '3mb',\n",
       " 8733: 'always',\n",
       " 3195: '25mb',\n",
       " 47923: 'standard',\n",
       " 53217: 'versions',\n",
       " 46243: 'shows',\n",
       " 16187: 'controler',\n",
       " 42258: 'range',\n",
       " 27985: 'indeed',\n",
       " 16192: 'controller',\n",
       " 5529: '6mb',\n",
       " 776: '10mb',\n",
       " 12856: 'burst',\n",
       " 37020: 'note',\n",
       " 27952: 'increase',\n",
       " 41799: 'quadra',\n",
       " 21814: 'exist',\n",
       " 50726: 'too',\n",
       " 35013: 'mode',\n",
       " 1553: '16',\n",
       " 54484: 'wide',\n",
       " 22365: 'fast',\n",
       " 1113: '12mb',\n",
       " 2730: '20mb',\n",
       " 3681: '32',\n",
       " 17553: 'data',\n",
       " 16388: 'correct',\n",
       " 42463: 'reach',\n",
       " 6772: '96',\n",
       " 22186: 'facts',\n",
       " 40426: 'posted',\n",
       " 36567: 'newsgroup',\n",
       " 27314: 'ibm',\n",
       " 46036: 'sheet',\n",
       " 10283: 'available',\n",
       " 23690: 'ftp',\n",
       " 48799: 'sumex',\n",
       " 8329: 'aim',\n",
       " 47936: 'stanford',\n",
       " 43278: 'report',\n",
       " 15518: 'compare',\n",
       " 51554: 'txt',\n",
       " 1734: '173',\n",
       " 1573: '161',\n",
       " 33625: 'may',\n",
       " 48212: 'still',\n",
       " 38857: 'part',\n",
       " 40956: 'problem',\n",
       " 12175: 'both',\n",
       " 27927: 'inconsiant',\n",
       " 50315: 'though',\n",
       " 19392: 'documented',\n",
       " 9343: 'apple',\n",
       " 44809: 'salesperson',\n",
       " 44774: 'said',\n",
       " 33619: 'maximum',\n",
       " 49322: 'synchronous',\n",
       " 9130: 'ansynchronous',\n",
       " 46805: 'slower',\n",
       " 45546: 'seems',\n",
       " 28569: 'interface',\n",
       " 50259: 'think',\n",
       " 19757: 'driven',\n",
       " 51295: 'true',\n",
       " 24683: 'go',\n",
       " 46688: 'slam',\n",
       " 52056: 'understand',\n",
       " 24731: 'going',\n",
       " 42816: 'reference',\n",
       " 18753: 'digital',\n",
       " 43643: 'review',\n",
       " 37525: 'oct',\n",
       " 2739: '21',\n",
       " 2094: '1991',\n",
       " 52839: 'v8',\n",
       " 35982: 'n33',\n",
       " 38542: 'p8',\n",
       " 28967: 'iscsvax',\n",
       " 52164: 'uni',\n",
       " 54584: 'win',\n",
       " 27357: 'icon',\n",
       " 26146: 'help',\n",
       " 36986: 'northern',\n",
       " 28833: 'iowa',\n",
       " 576: '10',\n",
       " 19608: 'downloaded',\n",
       " 45836: 'several',\n",
       " 27363: 'icons',\n",
       " 11903: 'bmp',\n",
       " 22720: 'figure',\n",
       " 14228: 'change',\n",
       " 53935: 'wallpaper',\n",
       " 9379: 'appreciated',\n",
       " 50126: 'thanx',\n",
       " 41336: 'ps',\n",
       " 30408: 'kerr',\n",
       " 52790: 'ux1',\n",
       " 16982: 'cso',\n",
       " 51798: 'uiuc',\n",
       " 47917: 'stan',\n",
       " 46362: 'sigma',\n",
       " 18372: 'designs',\n",
       " 19556: 'double',\n",
       " 10474: 'b62',\n",
       " 27577: 'illinois',\n",
       " 52566: 'urbana',\n",
       " 29292: 'jap10',\n",
       " 40147: 'po',\n",
       " 17211: 'cwru',\n",
       " 29760: 'joseph',\n",
       " 39204: 'pellettiere',\n",
       " 11933: 'board',\n",
       " 25787: 'hardware',\n",
       " 15638: 'compression',\n",
       " 54887: 'works',\n",
       " 10242: 'autodoubler',\n",
       " 8681: 'also',\n",
       " 38337: 'over',\n",
       " 54872: 'work',\n",
       " 19919: 'due',\n",
       " 31879: 'licensing',\n",
       " 47864: 'stac',\n",
       " 49788: 'technologies',\n",
       " 38469: 'owners',\n",
       " 49789: 'technology',\n",
       " 55000: 'writing',\n",
       " 32389: 'lost',\n",
       " 55006: 'wrong',\n",
       " 11177: 'being',\n",
       " 54381: 'whether',\n",
       " 22396: 'fault',\n",
       " 47164: 'something',\n",
       " 20690: 'else',\n",
       " 26879: 'however',\n",
       " 17857: 'decompress',\n",
       " 51276: 'troubled',\n",
       " 42664: 'recompress',\n",
       " 54719: 'without',\n",
       " 52661: 'usually',\n",
       " 42535: 'reappears',\n",
       " 7534: 'above',\n",
       " 34106: 'mentioned',\n",
       " 23549: 'freeware',\n",
       " 21845: 'expansion',\n",
       " 52689: 'utility',\n",
       " 17705: 'dd',\n",
       " 21838: 'expand',\n",
       " 15634: 'compressed',\n",
       " 52266: 'unless',\n",
       " 28416: 'installed',\n",
       " 41014: 'product',\n",
       " 37069: 'now',\n",
       " 52269: 'unlikely',\n",
       " 26607: 'holes',\n",
       " 43019: 'related',\n",
       " 22901: 'fixed',\n",
       " 44726: 'sad',\n",
       " 53230: 'very',\n",
       " 43094: 'reluctant',\n",
       " 12928: 'buy',\n",
       " 26299: 'hey',\n",
       " 15561: 'competition',\n",
       " 15684: 'computing',\n",
       " 15488: 'communications',\n",
       " 45792: 'services',\n",
       " 37616: 'office',\n",
       " 2818: '217',\n",
       " 3748: '333',\n",
       " 4738: '5217',\n",
       " 47941: 'stankerr',\n",
       " 28947: 'irwin',\n",
       " 15113: 'cmptrc',\n",
       " 32313: 'lonestar',\n",
       " 38042: 'org',\n",
       " 9656: 'arnstein',\n",
       " 42657: 'recommendation',\n",
       " 19902: 'duc',\n",
       " 21898: 'expires',\n",
       " 44941: 'sat',\n",
       " 273: '05',\n",
       " 0: '00',\n",
       " 24660: 'gmt',\n",
       " 15685: 'computrac',\n",
       " 27865: 'inc',\n",
       " 43787: 'richardson',\n",
       " 51547: 'tx',\n",
       " 19905: 'ducati',\n",
       " 25276: 'gts',\n",
       " 1120: '13',\n",
       " 2073: '1978',\n",
       " 44529: 'runs',\n",
       " 38626: 'paint',\n",
       " 12535: 'bronze',\n",
       " 12562: 'brown',\n",
       " 37993: 'orange',\n",
       " 22194: 'faded',\n",
       " 31520: 'leaks',\n",
       " 37680: 'oil',\n",
       " 40322: 'pops',\n",
       " 2528: '1st',\n",
       " 7623: 'accel',\n",
       " 46170: 'shop',\n",
       " 50968: 'trans',\n",
       " 31517: 'leak',\n",
       " 47106: 'sold',\n",
       " 11522: 'bike',\n",
       " 38468: 'owner',\n",
       " 53970: 'want',\n",
       " 50263: 'thinking',\n",
       " 4099: '3k',\n",
       " 47862: 'stable',\n",
       " 33515: 'mate',\n",
       " 11110: 'beemer',\n",
       " 29291: 'jap',\n",
       " 35919: 'myself',\n",
       " 10393: 'axis',\n",
       " 35366: 'motors',\n",
       " 51391: 'tuba',\n",
       " 26709: 'honk',\n",
       " 50203: 'therefore',\n",
       " 19395: 'dod',\n",
       " 394: '0826',\n",
       " 42048: 'r75',\n",
       " 17612: 'david',\n",
       " 49989: 'terminus',\n",
       " 21302: 'ericsson',\n",
       " 45418: 'se',\n",
       " 12007: 'bold',\n",
       " 40325: 'popular',\n",
       " 35242: 'morality',\n",
       " 13485: 'camtec',\n",
       " 20601: 'electronics',\n",
       " 31645: 'leicester',\n",
       " 21002: 'england',\n",
       " 5930: '77',\n",
       " 10721: 'bangkok',\n",
       " 1768: '17570',\n",
       " 23544: 'freenet',\n",
       " 13667: 'carleton',\n",
       " 13298: 'ca',\n",
       " 7860: 'ad354',\n",
       " 29262: 'james',\n",
       " 38461: 'owens',\n",
       " 40837: 'previous',\n",
       " 44463: 'rude',\n",
       " 26599: 'hold',\n",
       " 20914: 'end',\n",
       " 18718: 'different',\n",
       " 48196: 'stick',\n",
       " 32328: 'look',\n",
       " 8200: 'again',\n",
       " 28526: 'intent',\n",
       " 21903: 'explaining',\n",
       " 29958: 'jung',\n",
       " 35238: 'moral',\n",
       " 24703: 'god',\n",
       " 38379: 'overlooked',\n",
       " 33053: 'main',\n",
       " 45541: 'seem',\n",
       " 45018: 'saying',\n",
       " 52256: 'unknowable',\n",
       " 55842: 'yep',\n",
       " 29485: 'jew',\n",
       " 29489: 'jewish',\n",
       " 29491: 'jews',\n",
       " 16548: 'covenant',\n",
       " 11394: 'between',\n",
       " 55872: 'yhwh',\n",
       " 38995: 'patriarchs',\n",
       " 7538: 'abraham',\n",
       " 35305: 'moses',\n",
       " 13750: 'case',\n",
       " 21448: 'establishes',\n",
       " 23172: 'follow',\n",
       " 33231: 'mankind',\n",
       " 17813: 'decide',\n",
       " 12203: 'boundaries',\n",
       " 22249: 'fall',\n",
       " 44737: 'sadducees',\n",
       " 11202: 'believed',\n",
       " 50763: 'torah',\n",
       " 43348: 'required',\n",
       " 54373: 'whereas',\n",
       " 39550: 'pharisees',\n",
       " 8956: 'ancestors',\n",
       " 29891: 'judaism',\n",
       " 28627: 'interpretation',\n",
       " 31500: 'lead',\n",
       " 37170: 'nuances',\n",
       " 49548: 'talmud',\n",
       " 21434: 'essence',\n",
       " 11467: 'biblical',\n",
       " 33164: 'man',\n",
       " 14565: 'christian',\n",
       " 36315: 'necessarily',\n",
       " 28014: 'indicate',\n",
       " 9217: 'anything',\n",
       " 38314: 'outside',\n",
       " 43025: 'relationship',\n",
       " 47456: 'speculate',\n",
       " 15387: 'comes',\n",
       " 34583: 'mind',\n",
       " 16697: 'created',\n",
       " 27612: 'image',\n",
       " 15466: 'committed',\n",
       " 32124: 'live',\n",
       " 14556: 'christ',\n",
       " 21696: 'example',\n",
       " 40780: 'pressed',\n",
       " 9565: 'argue',\n",
       " 30587: 'kind',\n",
       " 51275: 'trouble',\n",
       " 15382: 'come',\n",
       " 15743: 'conclusion',\n",
       " 52541: 'upsets',\n",
       " 13719: 'cart',\n",
       " 53974: 'wants',\n",
       " 45340: 'script',\n",
       " 45933: 'shaky',\n",
       " 23384: 'foundation',\n",
       " 34818: 'mix',\n",
       " 34211: 'metaphors',\n",
       " 32136: 'living',\n",
       " 32113: 'little',\n",
       " 29474: 'jesus',\n",
       " 42684: 'recorded',\n",
       " 52710: 'utterances',\n",
       " 36123: 'narratives',\n",
       " 23175: 'followers',\n",
       " 42818: 'references',\n",
       " 26459: 'historians',\n",
       " 43624: 'revelation',\n",
       " 9800: 'aside',\n",
       " 25672: 'hand',\n",
       " 54913: 'worse',\n",
       " 10086: 'attempt',\n",
       " 17780: 'debunk',\n",
       " 14567: 'christianity',\n",
       " 28271: 'initially',\n",
       " 11465: 'bible',\n",
       " 28626: 'interpret',\n",
       " 27029: 'humanity',\n",
       " 25313: 'guess',\n",
       " 22233: 'faith',\n",
       " 43055: 'relevation',\n",
       " 28246: 'inherent',\n",
       " 48591: 'subjectiveness',\n",
       " 34213: 'metaphysically',\n",
       " 35684: 'multiple',\n",
       " 15195: 'codes',\n",
       " 7559: 'absolute',\n",
       " 50174: 'theologically',\n",
       " 41888: 'questionable',\n",
       " 52093: 'undoubtably',\n",
       " 23386: 'founded',\n",
       " 38804: 'parent',\n",
       " 14447: 'child',\n",
       " 36525: 'never',\n",
       " 49181: 'swear',\n",
       " 9909: 'assume',\n",
       " 49183: 'swears',\n",
       " 46446: 'simply',\n",
       " 50662: 'told',\n",
       " 51265: 'trooper',\n",
       " 41421: 'pub',\n",
       " 10752: 'bar',\n",
       " 14453: 'children',\n",
       " 55011: 'wrongness',\n",
       " 26216: 'here',\n",
       " 19071: 'disobeys',\n",
       " 27852: 'inappropriate',\n",
       " 41939: 'quite',\n",
       " 25757: 'happy',\n",
       " ...}"
      ]
     },
     "execution_count": 12,
     "metadata": {},
     "output_type": "execute_result"
    }
   ],
   "source": [
    "# Dict that will be useful later \n",
    "\n",
    "inv_vocabulary = {value:key for key, value in count_vectorizer.vocabulary_.items()}\n",
    "print(len(inv_vocabulary))\n",
    "inv_vocabulary"
   ]
  },
  {
   "cell_type": "markdown",
   "metadata": {},
   "source": [
    "#### A Naive Bayes classifier for `newsgroup`"
   ]
  },
  {
   "cell_type": "markdown",
   "metadata": {},
   "source": [
    "Each feature vector $x$ is a list of indicators for whether a word appears in the article. $x_i$ is 1 if the $i$th word appears, and 0 otherwise. `inv_vocabulary` matches word indices $i$ to words.\n",
    "\n",
    "Each label $y$ is a value in $0, 1, \\ldots, 19$.\n",
    "\n",
    "The parts of a naive Bayes classifier for this problem can be summarised as:  \n",
    "\n",
    "\n",
    "- A probability distribution for the feature vector by class, $p(x|y = j)$ for each $j = 0, 1, \\ldots, 19$. These probability distributions are assumed to have independent components: we can factorize the joint probability as a product of marginal probabilities\n",
    "\\begin{equation}\n",
    "    p(x|y = j) = \\prod_{i=1}^d p(x_i|y = j)\n",
    "\\end{equation}\n",
    "These marginal probability distributions are Bernoulli distributions, each of which has a single parameter $\\theta_{ji} := p(x_i = 1|y = j)$. This parameter is the probability of observing word $i$ in an article of class $j$. \n",
    "\n",
    "- We will use the Laplace smoothed maximum likelihood estimate to compute these parameters. Laplace smoothing involves adding small counts to every feature for each class. Else, if a feature did not appear in the training set of a class, but then we observed it in our test data the log probability would be undefined.\n",
    "\n",
    "- A collection of class prior probabilities $p(y = j)$. These will be set by computing the class base rates in the training set.  \n",
    "\n",
    "\n",
    "- A function for computing the probability of class membership via Bayes' theorem:  \n",
    "\n",
    "\\begin{equation}\n",
    "    p(y = j|x) = \\frac{p(x|y = j)p(y = j)}{p(x)}\n",
    "\\end{equation}"
   ]
  },
  {
   "cell_type": "code",
   "execution_count": 17,
   "metadata": {},
   "outputs": [],
   "source": [
    "# Compute the parameter estimates (adjusted fraction of documents in class that contain word)\n",
    "\n",
    "n_classes = newsgroups_data['target'].max() + 1  # 20\n",
    "y = newsgroups_data['target']                    # shape = (11314,)\n",
    "n_words = binary_bag_of_words.shape[1]           # 56365\n",
    "\n",
    "alpha = 1e-6 # parameters for Laplace smoothing\n",
    "\n",
    "theta = np.zeros([n_classes, n_words]) # stores parameter values - prob. word given class\n",
    "for c_k in range(n_classes): # 0, 1, ..., 19\n",
    "    class_mask = (y == c_k)\n",
    "    N = class_mask.sum() # number of articles in class\n",
    "    theta[c_k, :] = (binary_bag_of_words[class_mask, :].sum(axis=0) + alpha)/(N + alpha*2)"
   ]
  },
  {
   "cell_type": "code",
   "execution_count": 20,
   "metadata": {},
   "outputs": [
    {
     "name": "stdout",
     "output_type": "stream",
     "text": [
      "Most probable word in class alt.atheism is \"people\".\n",
      "Most probable word in class comp.graphics is \"graphics\".\n",
      "Most probable word in class comp.os.ms-windows.misc is \"windows\".\n",
      "Most probable word in class comp.sys.ibm.pc.hardware is \"thanks\".\n",
      "Most probable word in class comp.sys.mac.hardware is \"mac\".\n",
      "Most probable word in class comp.windows.x is \"window\".\n",
      "Most probable word in class misc.forsale is \"sale\".\n",
      "Most probable word in class rec.autos is \"car\".\n",
      "Most probable word in class rec.motorcycles is \"dod\".\n",
      "Most probable word in class rec.sport.baseball is \"he\".\n",
      "Most probable word in class rec.sport.hockey is \"ca\".\n",
      "Most probable word in class sci.crypt is \"clipper\".\n",
      "Most probable word in class sci.electronics is \"use\".\n",
      "Most probable word in class sci.med is \"reply\".\n",
      "Most probable word in class sci.space is \"space\".\n",
      "Most probable word in class soc.religion.christian is \"god\".\n",
      "Most probable word in class talk.politics.guns is \"people\".\n",
      "Most probable word in class talk.politics.mideast is \"people\".\n",
      "Most probable word in class talk.politics.misc is \"people\".\n",
      "Most probable word in class talk.religion.misc is \"he\".\n"
     ]
    }
   ],
   "source": [
    "# Check whether the most probable word in each class is reasonable\n",
    "\n",
    "most_probable_word_ix = theta.argmax(axis=1) # most probable word for each class\n",
    "\n",
    "for j, ix in enumerate(most_probable_word_ix):\n",
    "    print('Most probable word in class {} is \"{}\".'.format(newsgroups_data['target_names'][j],\n",
    "                                                           inv_vocabulary[ix]))"
   ]
  },
  {
   "cell_type": "code",
   "execution_count": 21,
   "metadata": {},
   "outputs": [
    {
     "data": {
      "text/plain": [
       "<tfp.distributions.Bernoulli 'Bernoulli' batch_shape=[20, 56365] event_shape=[] dtype=int32>"
      ]
     },
     "execution_count": 21,
     "metadata": {},
     "output_type": "execute_result"
    }
   ],
   "source": [
    "# Define a distribution for each class\n",
    "\n",
    "batch_of_bernoullis = tfd.Bernoulli(probs = theta)\n",
    "batch_of_bernoullis"
   ]
  },
  {
   "cell_type": "code",
   "execution_count": 22,
   "metadata": {},
   "outputs": [
    {
     "data": {
      "text/plain": [
       "<tfp.distributions.Independent 'IndependentBernoulli' batch_shape=[20] event_shape=[56365] dtype=int32>"
      ]
     },
     "execution_count": 22,
     "metadata": {},
     "output_type": "execute_result"
    }
   ],
   "source": [
    "p_x_given_y = tfd.Independent(batch_of_bernoullis, reinterpreted_batch_ndims=1)\n",
    "p_x_given_y"
   ]
  },
  {
   "cell_type": "code",
   "execution_count": 24,
   "metadata": {},
   "outputs": [
    {
     "data": {
      "text/plain": [
       "TensorShape([10, 20, 56365])"
      ]
     },
     "execution_count": 24,
     "metadata": {},
     "output_type": "execute_result"
    }
   ],
   "source": [
    "# Take a sample of words from each class\n",
    "\n",
    "n_samples = 10\n",
    "sample = p_x_given_y.sample(n_samples)\n",
    "sample.shape"
   ]
  },
  {
   "cell_type": "code",
   "execution_count": 25,
   "metadata": {},
   "outputs": [
    {
     "data": {
      "text/plain": [
       "'soc.religion.christian'"
      ]
     },
     "execution_count": 25,
     "metadata": {},
     "output_type": "execute_result"
    }
   ],
   "source": [
    "# Choose a class\n",
    "\n",
    "chosen_class = 15\n",
    "newsgroups_data['target_names'][chosen_class]"
   ]
  },
  {
   "cell_type": "code",
   "execution_count": 26,
   "metadata": {},
   "outputs": [
    {
     "data": {
      "text/plain": [
       "<tf.Tensor: shape=(10, 56365), dtype=int32, numpy=\n",
       "array([[0, 0, 0, ..., 0, 0, 0],\n",
       "       [0, 0, 0, ..., 0, 0, 0],\n",
       "       [0, 0, 0, ..., 0, 0, 0],\n",
       "       ...,\n",
       "       [0, 0, 0, ..., 0, 0, 0],\n",
       "       [1, 0, 0, ..., 0, 0, 0],\n",
       "       [0, 0, 0, ..., 0, 0, 0]], dtype=int32)>"
      ]
     },
     "execution_count": 26,
     "metadata": {},
     "output_type": "execute_result"
    }
   ],
   "source": [
    "# Indicators for words that appear in the sample\n",
    "\n",
    "class_sample = sample[:, chosen_class, :]\n",
    "class_sample"
   ]
  },
  {
   "cell_type": "code",
   "execution_count": 32,
   "metadata": {},
   "outputs": [
    {
     "data": {
      "text/plain": [
       "[array(['15', '18', '1st', '21', '2118', 'ac', 'address', 'afraid',\n",
       "        'against', 'air', 'already', 'also', 'although', 'answered',\n",
       "        'antti', 'approach', 'apr', 'assumptions', 'athos', 'australia',\n",
       "        'back', 'been', 'being', 'believed', 'believers', 'bibliography',\n",
       "        'both', 'bound', 'build', 'call', 'century', 'claims', 'clearly',\n",
       "        'collection', 'come', 'commandments', 'common', 'compliance',\n",
       "        'computer', 'conclusions', 'confirmed', 'constantly', 'covered',\n",
       "        'curious', 'data', 'demons', 'difficulty', 'directed', 'divine',\n",
       "        'down', 'environmentalism', 'everyone', 'family', 'feel',\n",
       "        'founded', 'god', 'grace', 'gvg47', 'him', 'his', 'important',\n",
       "        'incredible', 'interested', 'james', 'jesus', 'koresh', 'little',\n",
       "        'lives', 'long', 'longer', 'matter', 'mayo', 'mcdowell', 'means',\n",
       "        'mild', 'misfortune', 'mountain', 'mouth', 'must', 'nature',\n",
       "        'normal', 'note', 'noted', 'now', 'obeyed', 'our', 'perish',\n",
       "        'person', 'personal', 'philosophy', 'pope', 'powerful', 'prefer',\n",
       "        'present', 'presumably', 'privilege', 'project', 'put', 'question',\n",
       "        'raised', 'real', 'really', 'referring', 'responded',\n",
       "        'resurrection', 'richard', 'rise', 'save', 'say', 'says', 'senses',\n",
       "        'sex', 'silver', 'since', 'skin', 'spirit', 'suggesting', 'talks',\n",
       "        'thank', 'their', 'them', 'these', 'think', 'those', 'through',\n",
       "        'times', 'top', 'uga', 'uk', 'upon', 've', 'wasn', 'way', 'were',\n",
       "        'why', 'willed', 'willign', 'wisdom', 'word', 'words', 'world'],\n",
       "       dtype='<U80'),\n",
       " array(['17', '1993', '24', '26', '37', '41', 'alleviate', 'always', 'am',\n",
       "        'applied', 'apr', 'asked', 'attractive', 'been', 'being',\n",
       "        'beneath', 'bible', 'block', 'books', 'both', 'breaks', 'bully',\n",
       "        'carefully', 'carson', 'cause', 'chris', 'condition',\n",
       "        'constraints', 'creative', 'csd', 'damnation', 'didn', 'discuss',\n",
       "        'discussions', 'diseases', 'doctrine', 'doesn', 'dunno', 'eau',\n",
       "        'effectively', 'either', 'emerge', 'end', 'esteem', 'evangelical',\n",
       "        'execute', 'favor', 'god', 'greatest', 'her', 'him', 'his',\n",
       "        'human', 'husband', 'immature', 'intervention', 'into', 'jayne',\n",
       "        'jim', 'jobs', 'kille', 'knowably', 'liane', 'literary', 'login',\n",
       "        'louis', 'ludicrous', 'make', 'makers', 'massacres', 'mind',\n",
       "        'moral', 'most', 'mserv', 'nature', 'necessarily', 'new', 'now',\n",
       "        'oakland', 'oh', 'others', 'overall', 'overwhelmed', 'passed',\n",
       "        'paste', 'path', 'pentacostal', 'people', 'perish', 'possible',\n",
       "        'preaches', 'pretend', 'prophet', 'protestant', 'proverbs',\n",
       "        'questioned', 'reactions', 'readers', 'refuted', 'responses',\n",
       "        'road', 'says', 'sci', 'see', 'shaken', 'something', 'specific',\n",
       "        'steadfast', 'substitute', 'supposedly', 'take', 'their',\n",
       "        'therefore', 'those', 'thus', 'truly', 'trust', 'try', 'two',\n",
       "        'unc', 'used', 'vision', 'watmath', 'way', 'while', 'wittgenstein',\n",
       "        'wrong'], dtype='<U80'),\n",
       " array(['01', '12', '15', '16', '21', '28379', '33', '36', '3803', '7034',\n",
       "        '_he', 'actually', 'against', 'agree', 'ahmadiyya', 'also',\n",
       "        'ancient', 'another', 'answer', 'apply', 'apr', 'arises', 'arlut',\n",
       "        'aspect', 'assume', 'athos', 'background', 'because', 'becomes',\n",
       "        'been', 'before', 'behavior', 'being', 'best', 'between',\n",
       "        'breastplate', 'brothers', 'bryce', 'ca', 'call', 'carefully',\n",
       "        'changed', 'christians', 'church', 'claim', 'claiming', 'clh',\n",
       "        'cobol', 'contrary', 'corinthians', 'could', 'count', 'cu',\n",
       "        'damned', 'daniel', 'dead', 'defining', 'deletia', 'difference',\n",
       "        'doctrine', 'doesn', 'egyptians', 'expertise', 'fathers', 'find',\n",
       "        'first', 'five', 'fnal', 'follow', 'forgiven', 'friend', 'fsu',\n",
       "        'function', 'god', 'greek', 'grew', 'had', 'he', 'high', 'him',\n",
       "        'hope', 'integration', 'internet', 'joshua', 'let', 'level',\n",
       "        'look', 'lord', 'lost', 'means', 'michael', 'moving', 'new',\n",
       "        'night', 'numbers', 'objections', 'once', 'own', 'people',\n",
       "        'pierce', 'position', 'questioning', 'rarely', 'redeem',\n",
       "        'religion', 'restoration', 'resurrection', 'sacrificing', 'say',\n",
       "        'seems', 'sinful', 'sky', 'sorry', 'sspx', 'standard', 'statement',\n",
       "        'student', 'studying', 'such', 'suffice', 'suggest', 'sweetie',\n",
       "        'than', 'think', 'those', 'thoughts', 'threatening', 'time',\n",
       "        'today', 'together', 'translations', 'treasury', 'uccs', 'utsa',\n",
       "        'very', 'wanted', 'wars', 'were', 'whether', 'while', 'widespread',\n",
       "        'wondering', 'words', 'worse', 'written', 'yes'], dtype='<U80'),\n",
       " array(['135', '1992', 'absolute', 'ac', 'according', 'against', 'almost',\n",
       "        'am', 'andrew', 'animal', 'another', 'appropriate', 'been',\n",
       "        'biblical', 'birth', 'bruce', 'cannot', 'challenge', 'christ',\n",
       "        'commentary', 'confessions', 'conversions', 'cool', 'country',\n",
       "        'critique', 'daily', 'dangerous', 'day', 'deals', 'dealt', 'death',\n",
       "        'deeds', 'did', 'discerning', 'discussion', 'documents', 'during',\n",
       "        'embroiled', 'ephesians', 'even', 'evenson', 'every', 'exactly',\n",
       "        'eyes', 'fall', 'final', 'finally', 'find', 'florida', 'full',\n",
       "        'fundamental', 'gabriel', 'give', 'giving', 'god', 'gospel',\n",
       "        'greater', 'had', 'happened', 'hedrick', 'himself', 'hit', 'hmm',\n",
       "        'including', 'interested', 'jen', 'koresh', 'late', 'later',\n",
       "        'logic', 'love', 'marriage', 'may', 'mcovingt', 'mean', 'meant',\n",
       "        'mosquito', 'narrow', 'nas', 'need', 'negative', 'nobody', 'ogden',\n",
       "        'originally', 'our', 'pain', 'part', 'partnerships', 'people',\n",
       "        'period', 'personal', 'petch', 'places', 'powered', 'produce',\n",
       "        'questions', 'rather', 'readers', 'reading', 'realizes',\n",
       "        'releases', 'reliance', 'religions', 'rely', 'remember', 'rexlex',\n",
       "        'rome', 'rutgers', 'said', 'saint', 'says', 'scripture', 'search',\n",
       "        'simply', 'since', 'split', 'ssd', 'stand', 'state', 'steve',\n",
       "        'store', 'suggest', 'suit', 'tad', 'take', 'teachings', 'terrance',\n",
       "        'then', 'theory', 'these', 'though', 'times', 'toungues',\n",
       "        'transfusion', 'trl', 'truth', 'turn', 'us', 'views', 'violate',\n",
       "        'want', 'way', 'weak', 'word', 'working'], dtype='<U80'),\n",
       " array(['10', '14501', '1993', '227', '27', '35', '58', 'abandoning',\n",
       "        'above', 'accident', 'agreement', 'another', 'anybody',\n",
       "        'apocrypha', 'appeared', 'applies', 'around', 'ask',\n",
       "        'astrophysics', 'atlas', 'become', 'believe', 'besides', 'blindly',\n",
       "        'cannot', 'case', 'centuries', 'christi', 'come', 'commissioner',\n",
       "        'company', 'confine', 'course', 'crucify', 'cs', 'cwru', 'days',\n",
       "        'deal', 'debated', 'deleted', 'demonstrate', 'did', 'does',\n",
       "        'doing', 'done', 'eden', 'editorial', 'effectively', 'either',\n",
       "        'engaged', 'engel', 'explained', 'father', 'fax', 'fear', 'flame',\n",
       "        'fnal', 'follow', 'fools', 'former', 'fruit', 'gifted', 'god',\n",
       "        'greeks', 'guilty', 'him', 'homosexuality', 'idea', 'indeed',\n",
       "        'individual', 'injure', 'instead', 'introduced', 'jewish', 'john',\n",
       "        'jude', 'korean', 'kulikauskas', 'language', 'law', 'lie', 'life',\n",
       "        'man', 'many', 'mayne', 'members', 'might', 'mint', 'moral',\n",
       "        'mosaic', 'moslem', 'moved', 'mutually', 'name', 'never', 'nice',\n",
       "        'original', 'others', 'overthrown', 'pack', 'perhaps', 'period',\n",
       "        'perish', 'person', 'please', 'point', 'poram', 'prayed',\n",
       "        'proceeded', 'questions', 'rather', 'realize', 'received',\n",
       "        'rejected', 'repeated', 'responsibility', 'revelations', 'rights',\n",
       "        'same', 'satan', 'serious', 'sin', 'sociology', 'ssd',\n",
       "        'subjective', 'terms', 'their', 'think', 'those', 'time', 'told',\n",
       "        'too', 'upenn', 'very', 'viewed', 'wages', 'want', 'well', 'whole',\n",
       "        'whose', 'willing', 'worked', 'written', 'yeh', 'york'],\n",
       "       dtype='<U80'),\n",
       " array(['09', '14', '17', '1992', '1993', '28445', '36', 'accounts',\n",
       "        'after', 'amen', 'answered', 'anti', 'anyone', 'anything', 'apr',\n",
       "        'asking', 'atheists', 'audience', 'authority', 'basis',\n",
       "        'beautiful', 'because', 'behind', 'bind', 'book', 'breaking',\n",
       "        'cardinal', 'case', 'christian', 'church', 'commanded', 'complete',\n",
       "        'consequences', 'correct', 'crucifixion', 'csd', 'cycles', 'deals',\n",
       "        'dept', 'dialog', 'different', 'discredited', 'dsg', 'either',\n",
       "        'entire', 'especially', 'eternity', 'even', 'everything',\n",
       "        'explains', 'fact', 'failing', 'fakeness', 'federally', 'few',\n",
       "        'figure', 'forty', 'furthermore', 'game', 'gift', 'given', 'go',\n",
       "        'goes', 'good', 'had', 'her', 'him', 'his', 'hurt', 'include',\n",
       "        'indicate', 'influence', 'into', 'its', 'jesus', 'john', 'kant',\n",
       "        'keep', 'king', 'koresh', 'largest', 'later', 'legitimate', 'live',\n",
       "        'looks', 'marital', 'matter', 'muslims', 'national', 'number',\n",
       "        'oddities', 'opinion', 'our', 'over', 'own', 'paper', 'people',\n",
       "        'person', 'philosophers', 'prayer', 'prevention', 'problem',\n",
       "        'properly', 'questions', 'reason', 'rebellion', 'record',\n",
       "        'recorded', 'regards', 'resort', 'sad', 'schism', 'seems',\n",
       "        'sending', 'siemon', 'sisters', 'smith', 'source', 'spiritual',\n",
       "        'spss', 'strikes', 'suspect', 'symbols', 'taking', 'teaches',\n",
       "        'ten', 'than', 'thank', 'thanks', 'them', 'then', 'think', 'those',\n",
       "        'time', 'under', 'use', 'useful', 'vera', 'wall', 'way', 'well',\n",
       "        'whether', 'word', 'worships', 'worthwhile'], dtype='<U80'),\n",
       " array(['01', '03', '09', '10', '17', '1993', '22', '60', '_some_', 'adam',\n",
       "        'affairs', 'albrecht', 'always', 'amazingly', 'apr', 'area',\n",
       "        'badly', 'balkans', 'basically', 'because', 'below', 'best',\n",
       "        'bishop', 'body', 'canceled', 'child', 'claiming', 'comments',\n",
       "        'comprehend', 'concern', 'convinced', 'cosmos', 'covering', 'cu',\n",
       "        'david', 'day', 'decision', 'direct', 'dleonar', 'does', 'doesn',\n",
       "        'down', 'dull', 'elizabeth', 'encourage', 'eternal', 'even',\n",
       "        'event', 'everybody', 'evidences', 'expresses', 'fermi', 'find',\n",
       "        'fly', 'following', 'forcibly', 'forgiven', 'future', 'gaus',\n",
       "        'gave', 'georgia', 'gloss', 'god', 'harder', 'him', 'his', 'hold',\n",
       "        'hurrying', 'hypothesis', 'independent', 'insert', 'insist',\n",
       "        'inspired', 'institute', 'interestingly', 'interject', 'its',\n",
       "        'joe', 'jotted', 'last', 'least', 'likewise', 'literalness',\n",
       "        'little', 'lost', 'love', 'luomat', 'lyrics', 'male', 'many',\n",
       "        'maybe', 'messiahs', 'michael', 'mind', 'misconfigured', 'month',\n",
       "        'much', 'name', 'neighbor', 'next', 'niether', 'north', 'obey',\n",
       "        'obvious', 'opinions', 'pasadena', 'people', 'personal', 'pipe',\n",
       "        'pittsburgh', 'please', 'praiseworthy', 'proverbial', 'question',\n",
       "        'receive', 'relationship', 'rest', 'rev', 'rise', 'rose',\n",
       "        'sacrafice', 'said', 'sarah', 'services', 'shows', 'sin', 'slave',\n",
       "        'soul', 'space', 'sunday', 'taker', 'tek', 'tendencies', 'test',\n",
       "        'text', 'than', 'theory', 'thereby', 'therefore', 'think',\n",
       "        'thrown', 'time', 'tradition', 'trol', 'true', 'uk', 'until', 'us',\n",
       "        'using', 'very', 'via', 'vienna', 'want', 'way', 'weekly', 'where',\n",
       "        'whether', 'wondering', 'work', 'world', 'wrongdoings'],\n",
       "       dtype='<U80'),\n",
       " array(['1989', '1993', '33', '44', 'accumulated', 'accused', 'alarms',\n",
       "        'also', 'ancient', 'answer', 'appears', 'applied', 'ask', 'assume',\n",
       "        'athos', 'available', 'avoid', 'been', 'bibles', 'body', 'broken',\n",
       "        'ca', 'came', 'cannot', 'center', 'cheerful', 'choice',\n",
       "        'christians', 'contemplating', 'creation', 'creature', 'dear',\n",
       "        'defy', 'did', 'different', 'disturbed', 'ecn', 'either', 'empire',\n",
       "        'empowers', 'engineering', 'etc', 'ethics', 'evil', 'example',\n",
       "        'examples', 'excommunicated', 'experience', 'explain', 'extract',\n",
       "        'filtering', 'fraseraj', 'gathered', 'god', 'going', 'grading',\n",
       "        'graduate', 'great', 'guides', 'gvg47', 'had', 'happened',\n",
       "        'harvey', 'heard', 'here', 'his', 'importance', 'ingr',\n",
       "        'institute', 'interpreted', 'interpreting', 'itc', 'jemurray',\n",
       "        'jesus', 'jewish', 'judge', 'judgement', 'justice', 'king',\n",
       "        'leader', 'less', 'let', 'life', 'live', 'looking', 'make', 'many',\n",
       "        'may', 'men', 'mind', 'minister', 'moi', 'money', 'mot',\n",
       "        'muskingum', 'never', 'nor', 'our', 'peace', 'physical',\n",
       "        'position', 'possible', 'prior', 'professor', 'prophet', 'psalm',\n",
       "        'question', 'r2d2', 'really', 'reason', 'required', 'roboticist',\n",
       "        'rock', 'rrrrrrrrrrrrrrrabbits', 'sabbath', 'saturday', 'save',\n",
       "        'say', 'says', 'seems', 'semper', 'sheltered', 'soc', 'someone',\n",
       "        'something', 'soul', 'spirits', 'ssd', 'teachings', 'tend',\n",
       "        'testing', 'text', 'than', 'them', 'those', 'thus', 'tool', 'troy',\n",
       "        'turn', 'uga', 'understood', 'unless', 'unswervingly', 'upset',\n",
       "        'were', 'whether', 'while', 'why', 'wife', 'word'], dtype='<U80'),\n",
       " array(['00', '02', '11', '1972', '1993', '25', '60', '94305', 'ability',\n",
       "        'access', 'also', 'am', 'arius', 'arrogant', 'atheism', 'atheist',\n",
       "        'athena', 'authenticated', 'away', 'basis', 'because', 'becoming',\n",
       "        'been', 'before', 'believe', 'believers', 'belong', 'benefit',\n",
       "        'bit', 'bitnet', 'boundary', 'brandeis', 'building', 'byler',\n",
       "        'calendar', 'came', 'choose', 'christians', 'church', 'cleveland',\n",
       "        'concede', 'concrete', 'crucifixion', 'current', 'cut',\n",
       "        'delegation', 'deleted', 'described', 'devil', 'dictionaries',\n",
       "        'did', 'die', 'doctrines', 'does', 'down', 'dresden', 'eating',\n",
       "        'embarrassed', 'encourage', 'etc', 'evil', 'existance', 'expect',\n",
       "        'failure', 'first', 'fixed', 'fnal', 'frankly', 'free', 'gifted',\n",
       "        'god', 'ground', 'happen', 'hard', 'harrassed', 'he', 'her',\n",
       "        'holy', 'however', 'indiana', 'infallibility', 'influence',\n",
       "        'involve', 'jodfishe', 'judged', 'leads', 'least', 'lie',\n",
       "        'limited', 'lincoln', 'lived', 'living', 'logical', 'lot', 'love',\n",
       "        'made', 'make', 'misused', 'mot', 'much', 'new', 'ordinance',\n",
       "        'ought', 'our', 'paganism', 'parents', 'particular', 'pascal',\n",
       "        'pat', 'personally', 'philosophers', 'philosophy', 'pixie', 'pmp',\n",
       "        'posted', 'pretty', 'promised', 'purdue', 'put', 'questions',\n",
       "        'r2d2', 'really', 'reason', 'research', 'responsible', 'rest',\n",
       "        'rutgers', 'sacrifice', 'said', 'san', 'seed', 'shlrc', 'should',\n",
       "        'show', 'simply', 'somewhat', 'sorry', 'sound', 'spss', 'such',\n",
       "        'taoism', 'teaches', 'than', 'theoretical', 'through', 'tim',\n",
       "        'timothy', 'tried', 'truths', 'uky', 'understand', 'ungodly',\n",
       "        'unless', 'usenet', 'warped', 'way', 'were', 'william', 'within',\n",
       "        'worn', 'yet', 'yourselves'], dtype='<U80'),\n",
       " array(['16', '36', '_me_', '_on', 'acceptable', 'afraid', 'also', 'am',\n",
       "        'apparently', 'asked', 'attest', 'because', 'been', 'belief',\n",
       "        'cases', 'chosen', 'christ', 'christianity', 'christians',\n",
       "        'cleveland', 'college', 'compound', 'coordinator', 'decisions',\n",
       "        'definition', 'degree', 'did', 'does', 'doom', 'embrace',\n",
       "        'example', 'find', 'foreign', 'forgive', 'founded',\n",
       "        'fundamentalist', 'gnash', 'god', 'good', 'great', 'group',\n",
       "        'grows', 'gsu0033', 'he', 'hell', 'here', 'his', 'history', 'ill',\n",
       "        'importance', 'indigenous', 'information', 'jesus', 'judged',\n",
       "        'jump', 'keep', 'kjv', 'last', 'lasted', 'later', 'let',\n",
       "        'marraige', 'mean', 'meaningful', 'met', 'morals', 'mystery',\n",
       "        'needs', 'next', 'nobody', 'number', 'october', 'our',\n",
       "        'overthrown', 'parallelism', 'paraphrase', 'passover', 'perfectly',\n",
       "        'person', 'petch', 'pilate', 'portion', 'postings', 'preacher',\n",
       "        'precisely', 'present', 'priest', 'put', 'raiders', 'remained',\n",
       "        'reply', 'same', 'science', 'send', 'simply', 'sin', 'sinful',\n",
       "        'slight', 'ssf', 'start', 'stop', 'strengthen', 'such', 'take',\n",
       "        'taken', 'test', 'their', 'them', 'then', 'thus', 'today', 'tv',\n",
       "        'unable', 'undoubtedly', 'verdict', 'very', 'views', 'week',\n",
       "        'were', 'whether', 'whose', 'words', 'wrote', 'xx155', 'york'],\n",
       "       dtype='<U80')]"
      ]
     },
     "execution_count": 32,
     "metadata": {},
     "output_type": "execute_result"
    }
   ],
   "source": [
    "# Perform inverse transform to test quality of fit\n",
    "\n",
    "count_vectorizer.inverse_transform(class_sample)"
   ]
  },
  {
   "cell_type": "markdown",
   "metadata": {},
   "source": [
    "***\n",
    "<a id='sampling_and_log_probs'></a>\n",
    "## Sampling and log probs"
   ]
  },
  {
   "cell_type": "code",
   "execution_count": 3,
   "metadata": {},
   "outputs": [
    {
     "data": {
      "text/plain": [
       "<tfp.distributions.MultivariateNormalDiag 'MultivariateNormalDiag' batch_shape=[3] event_shape=[2] dtype=float32>"
      ]
     },
     "execution_count": 3,
     "metadata": {},
     "output_type": "execute_result"
    }
   ],
   "source": [
    "# Make Multivariate Distribution\n",
    "\n",
    "normal_distributions = tfd.MultivariateNormalDiag(loc=[[0.5, 1], [0.1, 0], [0, 0.2]],\n",
    "                                 scale_diag=[[2, 3], [1, 3], [4, 4]])\n",
    "normal_distributions"
   ]
  },
  {
   "cell_type": "code",
   "execution_count": 4,
   "metadata": {},
   "outputs": [
    {
     "data": {
      "text/plain": [
       "<tf.Tensor: shape=(5, 3, 2), dtype=float32, numpy=\n",
       "array([[[-1.2961674 , -4.477743  ],\n",
       "        [-0.34441808, -4.4648843 ],\n",
       "        [-3.1421852 ,  0.9847862 ]],\n",
       "\n",
       "       [[ 0.8520931 , -3.5757518 ],\n",
       "        [ 0.73529404,  2.0043614 ],\n",
       "        [ 5.6922107 ,  0.38246575]],\n",
       "\n",
       "       [[ 0.0661459 , -4.1254716 ],\n",
       "        [ 0.61741614, -0.35916954],\n",
       "        [-4.245635  , -1.9636502 ]],\n",
       "\n",
       "       [[ 0.6721385 , -2.83458   ],\n",
       "        [-0.29498634,  1.5767398 ],\n",
       "        [-0.02867545, -3.6013174 ]],\n",
       "\n",
       "       [[-1.9095645 ,  1.0512418 ],\n",
       "        [ 0.13989209, -1.9639037 ],\n",
       "        [-2.5538137 ,  4.828182  ]]], dtype=float32)>"
      ]
     },
     "execution_count": 4,
     "metadata": {},
     "output_type": "execute_result"
    }
   ],
   "source": [
    "# Sample\n",
    "\n",
    "normal_distributions.sample(5)"
   ]
  },
  {
   "cell_type": "code",
   "execution_count": 5,
   "metadata": {},
   "outputs": [
    {
     "data": {
      "text/plain": [
       "<tfp.distributions.MultivariateNormalDiag 'MultivariateNormalDiag' batch_shape=[2, 2] event_shape=[3] dtype=float32>"
      ]
     },
     "execution_count": 5,
     "metadata": {},
     "output_type": "execute_result"
    }
   ],
   "source": [
    "# Multivariate Normal batched Distribution\n",
    "# We are broadcasting batch shapes of `loc` and `scal_diag` \n",
    "# against each other\n",
    "\n",
    "loc = [[[0.3, 1.5, 1.], [0.2, 0.4, 2.8]],\n",
    "        [[2., 2.3, 8], [1.4, 1, 1.3]]]\n",
    "scale_diag = [0.4, 1., 0.7]\n",
    "normal_distributions = tfd.MultivariateNormalDiag(loc=loc, scale_diag=scale_diag)\n",
    "normal_distributions"
   ]
  },
  {
   "cell_type": "code",
   "execution_count": 6,
   "metadata": {},
   "outputs": [
    {
     "data": {
      "text/plain": [
       "<tfp.distributions.Independent 'IndependentMultivariateNormalDiag' batch_shape=[2] event_shape=[2, 3] dtype=float32>"
      ]
     },
     "execution_count": 6,
     "metadata": {},
     "output_type": "execute_result"
    }
   ],
   "source": [
    "# Use independent to move part of the batch shape\n",
    "\n",
    "ind_normal_distributions = tfd.Independent(normal_distributions, reinterpreted_batch_ndims=1)\n",
    "ind_normal_distributions"
   ]
  },
  {
   "cell_type": "code",
   "execution_count": 7,
   "metadata": {},
   "outputs": [
    {
     "data": {
      "text/plain": [
       "<tf.Tensor: shape=(5, 2, 2, 3), dtype=float32, numpy=\n",
       "array([[[[ 0.43550175,  1.8449861 ,  0.53759503],\n",
       "         [ 0.08580025,  0.83852386,  3.3801994 ]],\n",
       "\n",
       "        [[ 1.7856338 ,  1.7646517 ,  7.2773027 ],\n",
       "         [ 0.22291803,  1.229949  ,  0.91765696]]],\n",
       "\n",
       "\n",
       "       [[[ 0.18104166,  1.5165684 ,  1.1115004 ],\n",
       "         [ 0.0241417 ,  1.6443346 ,  2.2129493 ]],\n",
       "\n",
       "        [[ 1.8314601 ,  2.3730211 ,  7.9913716 ],\n",
       "         [ 1.21605   ,  0.29694557,  0.5654051 ]]],\n",
       "\n",
       "\n",
       "       [[[ 0.13725404,  2.2037678 ,  1.1053156 ],\n",
       "         [ 0.15253423, -0.5715581 ,  1.4947981 ]],\n",
       "\n",
       "        [[ 1.6202079 ,  0.77482855,  7.8831754 ],\n",
       "         [ 1.5205522 ,  3.4803462 ,  1.090857  ]]],\n",
       "\n",
       "\n",
       "       [[[ 0.1264881 ,  0.7203603 ,  1.085191  ],\n",
       "         [ 0.20146215,  2.7723958 ,  2.3356378 ]],\n",
       "\n",
       "        [[ 1.9050044 ,  2.7961767 ,  7.108684  ],\n",
       "         [ 1.7284667 ,  2.497467  ,  2.647406  ]]],\n",
       "\n",
       "\n",
       "       [[[ 0.74979454,  0.7746124 ,  1.8250467 ],\n",
       "         [ 1.2543408 ,  2.1394918 ,  2.2630935 ]],\n",
       "\n",
       "        [[ 1.9069908 ,  2.6968334 ,  7.9369545 ],\n",
       "         [ 1.2921718 ,  0.37605965,  2.2697053 ]]]], dtype=float32)>"
      ]
     },
     "execution_count": 7,
     "metadata": {},
     "output_type": "execute_result"
    }
   ],
   "source": [
    "# Draw some samples\n",
    "\n",
    "ind_normal_distributions.sample(5)"
   ]
  },
  {
   "cell_type": "code",
   "execution_count": 8,
   "metadata": {},
   "outputs": [
    {
     "data": {
      "text/plain": [
       "<tf.Tensor: shape=(2,), dtype=float32, numpy=array([-10.683702, -70.85609 ], dtype=float32)>"
      ]
     },
     "execution_count": 8,
     "metadata": {},
     "output_type": "execute_result"
    }
   ],
   "source": [
    "# `[B, E]` shaped input\n",
    "\n",
    "inp = tf.random.uniform((2,2,3))\n",
    "ind_normal_distributions.log_prob(inp)"
   ]
  },
  {
   "cell_type": "code",
   "execution_count": 11,
   "metadata": {},
   "outputs": [
    {
     "data": {
      "text/plain": [
       "<tf.Tensor: shape=(2,), dtype=float32, numpy=array([-12.346934, -78.85823 ], dtype=float32)>"
      ]
     },
     "execution_count": 11,
     "metadata": {},
     "output_type": "execute_result"
    }
   ],
   "source": [
    "# `[E]` shaped input (broadcasting over batch size)\n",
    "\n",
    "inp = tf.random.uniform((2,3))\n",
    "ind_normal_distributions.log_prob(inp)"
   ]
  },
  {
   "cell_type": "code",
   "execution_count": 12,
   "metadata": {},
   "outputs": [
    {
     "data": {
      "text/plain": [
       "<tf.Tensor: shape=(9, 2), dtype=float32, numpy=\n",
       "array([[-12.441522, -64.17899 ],\n",
       "       [-11.207104, -69.49533 ],\n",
       "       [-13.202447, -67.84105 ],\n",
       "       [ -9.664619, -76.62756 ],\n",
       "       [ -8.827699, -72.38983 ],\n",
       "       [-11.905472, -71.53604 ],\n",
       "       [ -9.768931, -75.60004 ],\n",
       "       [-10.387343, -77.543   ],\n",
       "       [-10.58506 , -78.770805]], dtype=float32)>"
      ]
     },
     "execution_count": 12,
     "metadata": {},
     "output_type": "execute_result"
    }
   ],
   "source": [
    "#`[S, B, E]` shaped input (broadcasting over samples)\n",
    "\n",
    "inp = tf.random.uniform((9,2,2,3))\n",
    "ind_normal_distributions.log_prob(inp)"
   ]
  },
  {
   "cell_type": "code",
   "execution_count": 13,
   "metadata": {},
   "outputs": [
    {
     "data": {
      "text/plain": [
       "<tf.Tensor: shape=(5, 2), dtype=float32, numpy=\n",
       "array([[-11.562384, -73.79501 ],\n",
       "       [-11.254204, -73.61822 ],\n",
       "       [-10.578766, -83.05201 ],\n",
       "       [-10.255808, -81.77104 ],\n",
       "       [ -9.340996, -65.16196 ]], dtype=float32)>"
      ]
     },
     "execution_count": 13,
     "metadata": {},
     "output_type": "execute_result"
    }
   ],
   "source": [
    "# `[S, b, e]` shaped input, where [b, e] is broadcastable over [B, E]\n",
    "\n",
    "inp = tf.random.uniform((5,1,2,1))\n",
    "ind_normal_distributions.log_prob(inp)"
   ]
  },
  {
   "cell_type": "markdown",
   "metadata": {},
   "source": [
    "#### Naive Bayes example\n",
    "\n",
    "Lets now use what we have learned and continue the Naive Bayes classifier we were building last tutorial."
   ]
  },
  {
   "cell_type": "code",
   "execution_count": 14,
   "metadata": {},
   "outputs": [],
   "source": [
    "from sklearn.datasets import fetch_20newsgroups\n",
    "from sklearn.feature_extraction.text import CountVectorizer\n",
    "from sklearn.naive_bayes import BernoulliNB\n",
    "from sklearn.metrics import f1_score"
   ]
  },
  {
   "cell_type": "code",
   "execution_count": 15,
   "metadata": {},
   "outputs": [],
   "source": [
    "# Making a function get_data which:\n",
    "#   1) Fetches the 20 newsgroup dataset\n",
    "#   2) Performs a word count on the articles and binarizes the result\n",
    "#   3) Returns the data as a numpy matrix with the labels\n",
    "\n",
    "def get_data(categories):\n",
    "    \n",
    "    newsgroups_train_data = fetch_20newsgroups(data_home='20_Newsgroup_Data/',\n",
    "                                               subset='train', categories=categories)\n",
    "    newsgroups_test_data = fetch_20newsgroups(data_home='20_Newsgroup_Data/',\n",
    "                                              subset='test', categories=categories)\n",
    "\n",
    "    n_documents = len(newsgroups_train_data['data'])\n",
    "    count_vectorizer = CountVectorizer(input='content', binary=True,max_df=0.25, min_df=1.01/n_documents)\n",
    "    \n",
    "    train_binary_bag_of_words = count_vectorizer.fit_transform(newsgroups_train_data['data'])\n",
    "    test_binary_bag_of_words = count_vectorizer.transform(newsgroups_test_data['data']) \n",
    "\n",
    "    return (train_binary_bag_of_words.todense(), newsgroups_train_data['target']),  (test_binary_bag_of_words.todense(), newsgroups_test_data['target'])"
   ]
  },
  {
   "cell_type": "code",
   "execution_count": 16,
   "metadata": {},
   "outputs": [],
   "source": [
    "# Defining a function to conduct Laplace smoothing. This adds a base level of probability for a given feature\n",
    "# to occur in every class.\n",
    "\n",
    "def laplace_smoothing(labels, binary_data, n_classes):\n",
    "    # Compute the parameter estimates (adjusted fraction of documents in class that contain word)\n",
    "    n_words = binary_data.shape[1]\n",
    "    alpha = 1 # parameters for Laplace smoothing\n",
    "    theta = np.zeros([n_classes, n_words]) # stores parameter values - prob. word given class\n",
    "    for c_k in range(n_classes): # 0, 1, ..., 19\n",
    "        class_mask = (labels == c_k)\n",
    "        N = class_mask.sum() # number of articles in class\n",
    "        theta[c_k, :] = (binary_data[class_mask, :].sum(axis=0) + alpha)/(N + alpha*2)\n",
    "\n",
    "    return theta"
   ]
  },
  {
   "cell_type": "code",
   "execution_count": 17,
   "metadata": {},
   "outputs": [],
   "source": [
    "# Getting a subset of the 20 newsgroup dataset\n",
    "\n",
    "categories = ['alt.atheism', 'talk.religion.misc', 'comp.graphics', 'sci.space']\n",
    "\n",
    "(train_data, train_labels), (test_data, test_labels) = get_data(categories=categories)\n",
    "smoothed_counts = laplace_smoothing(labels=train_labels, binary_data=train_data, n_classes=len(categories))"
   ]
  },
  {
   "cell_type": "code",
   "execution_count": 21,
   "metadata": {},
   "outputs": [
    {
     "name": "stdout",
     "output_type": "stream",
     "text": [
      "(4, 17495)\n",
      "[[0.00829876 0.02489627 0.00207469 0.00207469 0.00207469 0.00207469\n",
      "  0.00207469 0.00207469 0.00207469 0.00207469]\n",
      " [0.03583618 0.02047782 0.00170648 0.00170648 0.00170648 0.00170648\n",
      "  0.00170648 0.00170648 0.00170648 0.00682594]\n",
      " [0.03697479 0.07058824 0.00504202 0.00504202 0.00504202 0.00168067\n",
      "  0.00504202 0.00504202 0.01008403 0.00168067]\n",
      " [0.01319261 0.02110818 0.00263852 0.00263852 0.00263852 0.00791557\n",
      "  0.00263852 0.00263852 0.00263852 0.00263852]]\n"
     ]
    }
   ],
   "source": [
    "print(smoothed_counts.shape)\n",
    "print(smoothed_counts[:,:10])"
   ]
  },
  {
   "cell_type": "markdown",
   "metadata": {},
   "source": [
    "To now make our NB classifier we need to build three functions:\n",
    "* Compute the class priors\n",
    "* Build our class conditional distributions\n",
    "* Put it all together and classify our data"
   ]
  },
  {
   "cell_type": "code",
   "execution_count": 22,
   "metadata": {},
   "outputs": [],
   "source": [
    "# Function which computes the prior probability of every class based on frequency of occurence in \n",
    "# the dataset\n",
    "\n",
    "def class_priors(n_classes, labels):\n",
    "    counts = np.zeros(n_classes)\n",
    "    for c_k in range(n_classes):\n",
    "        counts[c_k] = np.sum(np.where(labels==c_k, 1, 0))\n",
    "    priors = counts / np.sum(counts)\n",
    "    print('The class priors are {}'.format(priors))\n",
    "    return priors"
   ]
  },
  {
   "cell_type": "code",
   "execution_count": 23,
   "metadata": {},
   "outputs": [
    {
     "name": "stdout",
     "output_type": "stream",
     "text": [
      "The class priors are [0.2359882  0.28711898 0.29154376 0.18534907]\n"
     ]
    },
    {
     "data": {
      "text/plain": [
       "array([0.2359882 , 0.28711898, 0.29154376, 0.18534907])"
      ]
     },
     "execution_count": 23,
     "metadata": {},
     "output_type": "execute_result"
    }
   ],
   "source": [
    "# Run the function \n",
    "\n",
    "priors = class_priors(n_classes=len(categories), labels=train_labels)\n",
    "priors"
   ]
  },
  {
   "cell_type": "code",
   "execution_count": 24,
   "metadata": {},
   "outputs": [
    {
     "data": {
      "text/plain": [
       "<tfp.distributions.Independent 'IndependentBernoulli' batch_shape=[4] event_shape=[17495] dtype=int32>"
      ]
     },
     "execution_count": 24,
     "metadata": {},
     "output_type": "execute_result"
    }
   ],
   "source": [
    "# Now we will do a function that given the feature occurence counts returns a Bernoulli distribution of \n",
    "# batch_shape=number of classes and event_shape=number of features.\n",
    "\n",
    "def make_distribution(probs):\n",
    "    batch_of_bernoullis = tfd.Bernoulli(probs=probs)\n",
    "    dist = tfd.Independent(batch_of_bernoullis, reinterpreted_batch_ndims=1)\n",
    "    return dist\n",
    "\n",
    "tf_dist = make_distribution(smoothed_counts)\n",
    "tf_dist"
   ]
  },
  {
   "cell_type": "code",
   "execution_count": 25,
   "metadata": {},
   "outputs": [],
   "source": [
    "# The final function predict_sample which given the distribution, a test sample, and the class priors:\n",
    "#   1) Computes the class conditional probabilities given the sample\n",
    "#   2) Forms the joint likelihood\n",
    "#   3) Normalises the joint likelihood and returns the log prob\n",
    "\n",
    "def predict_sample(dist, sample, priors):\n",
    "    cond_probs = dist.log_prob(sample)\n",
    "    joint_likelihood = tf.add(np.log(priors), cond_probs)  # p(y=j)*P(x|y=j)\n",
    "    norm_factor = tf.math.reduce_logsumexp(joint_likelihood, axis=-1, keepdims=True)\n",
    "    log_prob = joint_likelihood - norm_factor\n",
    "    \n",
    "    return log_prob"
   ]
  },
  {
   "cell_type": "markdown",
   "metadata": {},
   "source": [
    "#### Computing log_probs"
   ]
  },
  {
   "cell_type": "code",
   "execution_count": 26,
   "metadata": {},
   "outputs": [
    {
     "data": {
      "text/plain": [
       "<tf.Tensor: shape=(4,), dtype=float32, numpy=\n",
       "array([-6.1736160e+01, -1.5258789e-05, -1.1619934e+01, -6.3327240e+01],\n",
       "      dtype=float32)>"
      ]
     },
     "execution_count": 26,
     "metadata": {},
     "output_type": "execute_result"
    }
   ],
   "source": [
    "# Predicting one example from our test data\n",
    "\n",
    "log_probs = predict_sample(tf_dist, test_data[0], priors)\n",
    "log_probs"
   ]
  },
  {
   "cell_type": "code",
   "execution_count": 27,
   "metadata": {},
   "outputs": [
    {
     "name": "stdout",
     "output_type": "stream",
     "text": [
      "f1  0.7848499112849504\n"
     ]
    }
   ],
   "source": [
    "# Loop over our test data and classify.\n",
    "\n",
    "probabilities = []\n",
    "for sample, label in zip(test_data, test_labels):\n",
    "    probabilities.append(tf.exp(predict_sample(tf_dist, sample, priors)))\n",
    "\n",
    "probabilities = np.asarray(probabilities)\n",
    "predicted_classes = np.argmax(probabilities, axis =-1)\n",
    "print('f1 ', f1_score(test_labels, predicted_classes, average='macro'))"
   ]
  },
  {
   "cell_type": "code",
   "execution_count": 28,
   "metadata": {},
   "outputs": [
    {
     "name": "stdout",
     "output_type": "stream",
     "text": [
      "f1 from sklean  0.7848499112849504\n"
     ]
    }
   ],
   "source": [
    "# Make a Bernoulli Naive Bayes classifier using sklearn with the same level of alpha smoothing. \n",
    "\n",
    "clf = BernoulliNB(alpha=1)\n",
    "clf.fit(train_data, train_labels)\n",
    "pred = clf.predict(test_data)\n",
    "print('f1 from sklean ', f1_score(test_labels, pred, average='macro'))"
   ]
  },
  {
   "cell_type": "markdown",
   "metadata": {},
   "source": [
    "***\n",
    "<a id='trainable_distributions'></a>\n",
    "## Trainable Distributions"
   ]
  },
  {
   "cell_type": "code",
   "execution_count": 17,
   "metadata": {},
   "outputs": [],
   "source": [
    "from sklearn.datasets import fetch_20newsgroups\n",
    "from sklearn.feature_extraction.text import CountVectorizer\n",
    "from sklearn.naive_bayes import BernoulliNB\n",
    "from sklearn.metrics import f1_score"
   ]
  },
  {
   "cell_type": "code",
   "execution_count": 18,
   "metadata": {},
   "outputs": [
    {
     "data": {
      "text/plain": [
       "<tfp.distributions.Exponential 'exp' batch_shape=[] event_shape=[] dtype=float32>"
      ]
     },
     "execution_count": 18,
     "metadata": {},
     "output_type": "execute_result"
    }
   ],
   "source": [
    "# Define an exponential distribution\n",
    "\n",
    "exponential = tfd.Exponential(rate=0.3, name='exp')\n",
    "exponential"
   ]
  },
  {
   "cell_type": "code",
   "execution_count": 19,
   "metadata": {},
   "outputs": [
    {
     "data": {
      "image/png": "[encoded data removed]",
      "text/plain": [
       "<Figure size 432x288 with 1 Axes>"
      ]
     },
     "metadata": {
      "needs_background": "light"
     },
     "output_type": "display_data"
    }
   ],
   "source": [
    "# Plot\n",
    "\n",
    "plt.hist(exponential.sample(5000), bins=100, density=True)\n",
    "plt.show()"
   ]
  },
  {
   "cell_type": "code",
   "execution_count": 25,
   "metadata": {},
   "outputs": [
    {
     "data": {
      "text/plain": [
       "(<tf.Variable 'rate:0' shape=() dtype=float32, numpy=1.0>,)"
      ]
     },
     "execution_count": 25,
     "metadata": {},
     "output_type": "execute_result"
    }
   ],
   "source": [
    "# Define an exponential distribution with a trainable rate parameter\n",
    "\n",
    "exp_train = tfd.Exponential(rate=tf.Variable(1.0, name='rate'), name='exp_train')\n",
    "exp_train.trainable_variables"
   ]
  },
  {
   "cell_type": "code",
   "execution_count": 26,
   "metadata": {},
   "outputs": [],
   "source": [
    "# Define the negative log likelihood\n",
    "\n",
    "def nll(x_train, distribution):\n",
    "    return -tf.reduce_mean(distribution.log_prob(x_train))"
   ]
  },
  {
   "cell_type": "code",
   "execution_count": 27,
   "metadata": {},
   "outputs": [],
   "source": [
    "# Define a function to compute the loss and gradients\n",
    "\n",
    "@tf.function\n",
    "def get_loss_and_grads(x_train, distribution):\n",
    "    with tf.GradientTape() as tape:\n",
    "        tape.watch(distribution.trainable_variables)\n",
    "        loss = nll(x_train, distribution)\n",
    "        grads = tape.gradient(loss, distribution.trainable_variables)\n",
    "    return loss, grads"
   ]
  },
  {
   "cell_type": "code",
   "execution_count": 28,
   "metadata": {},
   "outputs": [],
   "source": [
    "# Optimize\n",
    "\n",
    "def exponential_dist_optimisation(data, distribution):\n",
    "\n",
    "    # Keep results for plotting\n",
    "    train_loss_results = []\n",
    "    train_rate_results = []\n",
    "    \n",
    "    optimizer = tf.keras.optimizers.SGD(learning_rate=0.05)\n",
    "\n",
    "    num_steps = 10\n",
    "\n",
    "    for i in range(num_steps):\n",
    "        loss, grads = get_loss_and_grads(data, distribution)\n",
    "        optimizer.apply_gradients(zip(grads, distribution.trainable_variables))\n",
    "        \n",
    "        rate_value = distribution.rate.value()\n",
    "        train_loss_results.append(loss)\n",
    "        train_rate_results.append(rate_value)\n",
    "        \n",
    "        print(\"Step {:03d}: Loss: {:.3f}: Rate: {:.3f}\".format(i, loss, rate_value))\n",
    "        \n",
    "    return train_loss_results, train_rate_results"
   ]
  },
  {
   "cell_type": "code",
   "execution_count": 29,
   "metadata": {},
   "outputs": [
    {
     "name": "stdout",
     "output_type": "stream",
     "text": [
      "Step 000: Loss: 3.391: Rate: 0.880\n",
      "Step 001: Loss: 3.113: Rate: 0.768\n",
      "Step 002: Loss: 2.868: Rate: 0.663\n",
      "Step 003: Loss: 2.660: Rate: 0.569\n",
      "Step 004: Loss: 2.494: Rate: 0.487\n",
      "Step 005: Loss: 2.372: Rate: 0.420\n",
      "Step 006: Loss: 2.292: Rate: 0.370\n",
      "Step 007: Loss: 2.249: Rate: 0.335\n",
      "Step 008: Loss: 2.230: Rate: 0.315\n",
      "Step 009: Loss: 2.223: Rate: 0.304\n"
     ]
    }
   ],
   "source": [
    "# Get some data and train\n",
    "\n",
    "sampled_data = exponential.sample(5000)\n",
    "train_loss_results, train_rate_results = exponential_dist_optimisation(data=sampled_data, distribution=exp_train)"
   ]
  },
  {
   "cell_type": "code",
   "execution_count": 30,
   "metadata": {},
   "outputs": [
    {
     "name": "stdout",
     "output_type": "stream",
     "text": [
      "Exact rate:  0.3\n",
      "Pred rate:   0.30414063\n"
     ]
    }
   ],
   "source": [
    "# Predicted value for the rate parameter\n",
    "\n",
    "pred_value = exp_train.rate.numpy()\n",
    "exact_value = exponential.rate.numpy()\n",
    "\n",
    "print(\"Exact rate: \", exact_value)\n",
    "print(\"Pred rate:  \", pred_value)"
   ]
  },
  {
   "cell_type": "code",
   "execution_count": 31,
   "metadata": {},
   "outputs": [
    {
     "data": {
      "image/png": "[encoded data removed]",
      "text/plain": [
       "<Figure size 864x576 with 2 Axes>"
      ]
     },
     "metadata": {
      "needs_background": "light"
     },
     "output_type": "display_data"
    }
   ],
   "source": [
    "# Plot to see the convergence of the estimated and true parameters\n",
    "\n",
    "tensor_exact_value = tf.constant(exact_value, shape=[len(train_rate_results)])\n",
    "\n",
    "fig, axes = plt.subplots(2, sharex=True, figsize=(12, 8))\n",
    "fig.suptitle('Convergence')\n",
    "\n",
    "axes[0].set_ylabel(\"Loss\", fontsize=14)\n",
    "axes[0].plot(train_loss_results)\n",
    "\n",
    "axes[1].set_ylabel(\"Rate\", fontsize=14)\n",
    "axes[1].set_xlabel(\"Epoch\", fontsize=14)\n",
    "axes[1].plot(train_rate_results, label='trainable rate variable')\n",
    "axes[1].plot(tensor_exact_value, label='exact rate')\n",
    "axes[1].legend()\n",
    "plt.show()"
   ]
  },
  {
   "cell_type": "code",
   "execution_count": 32,
   "metadata": {},
   "outputs": [],
   "source": [
    "# Making a function get_data which:\n",
    "#   1) Fetches the 20 newsgroup dataset\n",
    "#   2) Performs a word count on the articles and binarizes the result\n",
    "#   3) Returns the data as a numpy matrix with the labels\n",
    "\n",
    "def get_data(categories):\n",
    "\n",
    "    newsgroups_train_data = fetch_20newsgroups(data_home='20_Newsgroup_Data/',\n",
    "                                               subset='train', categories=categories)\n",
    "    newsgroups_test_data = fetch_20newsgroups(data_home='20_Newsgroup_Data/',\n",
    "                                              subset='test', categories=categories)\n",
    "\n",
    "    n_documents = len(newsgroups_train_data['data'])\n",
    "    count_vectorizer = CountVectorizer(input='content', binary=True,max_df=0.25, min_df=1.01/n_documents) \n",
    "    train_binary_bag_of_words = count_vectorizer.fit_transform(newsgroups_train_data['data']) \n",
    "    test_binary_bag_of_words = count_vectorizer.transform(newsgroups_test_data['data']) \n",
    "\n",
    "    return (train_binary_bag_of_words.todense(), newsgroups_train_data['target']),  (test_binary_bag_of_words.todense(), newsgroups_test_data['target'])\n"
   ]
  },
  {
   "cell_type": "code",
   "execution_count": 33,
   "metadata": {},
   "outputs": [],
   "source": [
    "# Defining a function to conduct laplace smoothing. This adds a base level of probability for a given feature\n",
    "# to occur in every class.\n",
    "\n",
    "def laplace_smoothing(labels, binary_data, n_classes):\n",
    "    # Compute the parameter estimates (adjusted fraction of documents in class that contain word)\n",
    "    n_words = binary_data.shape[1]\n",
    "    alpha = 1 # parameters for Laplace smoothing\n",
    "    theta = np.zeros([n_classes, n_words]) # stores parameter values - prob. word given class\n",
    "    for c_k in range(n_classes): # 0, 1, ..., 19\n",
    "        class_mask = (labels == c_k)\n",
    "        N = class_mask.sum() # number of articles in class\n",
    "        theta[c_k, :] = (binary_data[class_mask, :].sum(axis=0) + alpha)/(N + alpha*2)\n",
    "\n",
    "    return theta"
   ]
  },
  {
   "cell_type": "code",
   "execution_count": 34,
   "metadata": {},
   "outputs": [],
   "source": [
    "# Now we will do a function that given the feature occurence counts returns a Bernoulli distribution of \n",
    "# batch_shape=number of classes and event_shape=number of features.\n",
    "\n",
    "def make_distributions(probs):\n",
    "    batch_of_bernoullis = tfd.Bernoulli(probs=probs) # shape (n_classes, n_words)\n",
    "    dist = tfd.Independent(batch_of_bernoullis, reinterpreted_batch_ndims=1)\n",
    "    return dist"
   ]
  },
  {
   "cell_type": "code",
   "execution_count": 35,
   "metadata": {},
   "outputs": [],
   "source": [
    "# Function which computes the prior probability of every class based on frequency of occurence in \n",
    "# the dataset\n",
    "\n",
    "def class_priors(n_classes, labels):\n",
    "    counts = np.zeros(n_classes)\n",
    "    for c_k in range(n_classes):\n",
    "        counts[c_k] = np.sum(np.where(labels==c_k, 1, 0))\n",
    "    priors = counts / np.sum(counts)\n",
    "    print('The class priors are {}'.format(priors))\n",
    "    return priors"
   ]
  },
  {
   "cell_type": "code",
   "execution_count": 36,
   "metadata": {},
   "outputs": [],
   "source": [
    "# The final function predict_sample which given the distribution, a test sample, and the class priors:\n",
    "#   1) Computes the class conditional probabilities given the sample\n",
    "#   2) Forms the joint likelihood\n",
    "#   3) Normalises the joint likelihood and returns the log prob\n",
    "\n",
    "def predict_sample(dist, sample, priors):\n",
    "    cond_probs = dist.log_prob(sample)\n",
    "    joint_likelihood = tf.add(np.log(priors), cond_probs)\n",
    "    norm_factor = tf.math.reduce_logsumexp(joint_likelihood, axis=-1, keepdims=True)\n",
    "    log_prob = joint_likelihood - norm_factor\n",
    "\n",
    "    return log_prob"
   ]
  },
  {
   "cell_type": "code",
   "execution_count": 42,
   "metadata": {},
   "outputs": [],
   "source": [
    "# Now we learn the distribution using gradient tape\n",
    "\n",
    "def make_distribution_withGT(data, labels, nb_classes):\n",
    "\n",
    "    class_data = []\n",
    "    train_vars = []\n",
    "    distributions = []\n",
    "    for c in range(nb_classes):\n",
    "        train_vars.append(tf.Variable(initial_value=np.random.uniform(low=0.01, high =0.1, size=data.shape[-1])))\n",
    "        distributions.append(tfd.Bernoulli(probs=train_vars[c]))\n",
    "        class_mask = (labels == c)\n",
    "        class_data.append(data[class_mask, :])\n",
    "\n",
    "    for c_num in range(0,nb_classes):\n",
    "        optimizer = tf.keras.optimizers.Adam()\n",
    "        print('\\n%-------------------%')\n",
    "        print('Class ', c_num)\n",
    "        print('%-------------------%')\n",
    "\n",
    "        for i in range(0,100):\n",
    "            loss, grads = get_loss_and_grads(class_data[c_num], distributions[c_num])\n",
    "            if (i % 10) == 0:\n",
    "                print('iter: {} loss: {}'.format(i, loss))\n",
    "            optimizer.apply_gradients(zip(grads, distributions[c_num].trainable_variables))\n",
    "            eta = 1e-3\n",
    "            clipped_probs = tf.clip_by_value(distributions[c_num].trainable_variables, \n",
    "                                             clip_value_min=eta, \n",
    "                                             clip_value_max=1.)\n",
    "            train_vars[c_num] = tf.squeeze(clipped_probs)\n",
    "            \n",
    "\n",
    "    dist = tfd.Bernoulli(probs=train_vars)\n",
    "    dist = tfd.Independent(dist,reinterpreted_batch_ndims=1)\n",
    "\n",
    "    print(dist)\n",
    "\n",
    "    return dist\n"
   ]
  },
  {
   "cell_type": "code",
   "execution_count": 43,
   "metadata": {},
   "outputs": [
    {
     "name": "stdout",
     "output_type": "stream",
     "text": [
      "The class priors are [0.2359882  0.28711898 0.29154376 0.18534907]\n"
     ]
    }
   ],
   "source": [
    "# Make the same Naive Bayes classifier we did last tutorial\n",
    "\n",
    "categories = ['alt.atheism', 'talk.religion.misc', 'comp.graphics', 'sci.space']\n",
    "\n",
    "(train_data, train_labels), (test_data, test_labels) = get_data(categories)\n",
    "\n",
    "smoothed_counts = laplace_smoothing(labels=train_labels, binary_data=train_data, n_classes=len(categories))\n",
    "\n",
    "priors = class_priors(n_classes=len(categories), labels=train_labels)\n",
    "tf_dist = make_distributions(smoothed_counts)"
   ]
  },
  {
   "cell_type": "code",
   "execution_count": 44,
   "metadata": {},
   "outputs": [
    {
     "name": "stdout",
     "output_type": "stream",
     "text": [
      "\n",
      "%-------------------%\n",
      "Class  0\n",
      "%-------------------%\n",
      "iter: 0 loss: 0.07850774547408618\n",
      "iter: 10 loss: 0.06917474036195898\n",
      "iter: 20 loss: 0.06048049839072141\n",
      "iter: 30 loss: 0.05243526737597334\n",
      "iter: 40 loss: 0.04498309442358166\n",
      "iter: 50 loss: 0.03807219901510629\n",
      "iter: 60 loss: 0.03166711926032839\n",
      "iter: 70 loss: 0.025744655879254924\n",
      "iter: 80 loss: 0.020261949459812138\n",
      "iter: 90 loss: 0.015168657628601591\n",
      "\n",
      "%-------------------%\n",
      "Class  1\n",
      "%-------------------%\n",
      "iter: 0 loss: 0.07143222471454638\n",
      "iter: 10 loss: 0.062099582517225645\n",
      "iter: 20 loss: 0.05331427641931201\n",
      "iter: 30 loss: 0.045145921715622025\n",
      "iter: 40 loss: 0.03757076922425798\n",
      "iter: 50 loss: 0.03056891542004345\n",
      "iter: 60 loss: 0.024101817136104774\n",
      "iter: 70 loss: 0.018143262675114416\n",
      "iter: 80 loss: 0.012648704088295796\n",
      "iter: 90 loss: 0.0075596602911872975\n",
      "\n",
      "%-------------------%\n",
      "Class  2\n",
      "%-------------------%\n",
      "iter: 0 loss: 0.07822727358449799\n",
      "iter: 10 loss: 0.06915583313223884\n",
      "iter: 20 loss: 0.06079277309481239\n",
      "iter: 30 loss: 0.05315868579653199\n",
      "iter: 40 loss: 0.04622792880467044\n",
      "iter: 50 loss: 0.039953403422950486\n",
      "iter: 60 loss: 0.034288039714828425\n",
      "iter: 70 loss: 0.029192851768058622\n",
      "iter: 80 loss: 0.024618626959351214\n",
      "iter: 90 loss: 0.020497486177148784\n",
      "\n",
      "%-------------------%\n",
      "Class  3\n",
      "%-------------------%\n",
      "iter: 0 loss: 0.07983028509893798\n",
      "iter: 10 loss: 0.07054732972926343\n",
      "iter: 20 loss: 0.06192372921015019\n",
      "iter: 30 loss: 0.05393948970297135\n",
      "iter: 40 loss: 0.04653834380417901\n",
      "iter: 50 loss: 0.03967834877370876\n",
      "iter: 60 loss: 0.03331724420907901\n",
      "iter: 70 loss: 0.027427438481727143\n",
      "iter: 80 loss: 0.02195795512284908\n",
      "iter: 90 loss: 0.016842006566965547\n",
      "tfp.distributions.Independent(\"IndependentBernoulli\", batch_shape=[4], event_shape=[17495], dtype=int32)\n"
     ]
    }
   ],
   "source": [
    "# Now train the distributions with gradient tape\n",
    "\n",
    "GT_dist = make_distribution_withGT(data=train_data, labels=train_labels, nb_classes=4)"
   ]
  },
  {
   "cell_type": "code",
   "execution_count": 45,
   "metadata": {},
   "outputs": [
    {
     "name": "stdout",
     "output_type": "stream",
     "text": [
      "f1  0.8343928592702505\n",
      "f1  0.7848499112849504\n"
     ]
    }
   ],
   "source": [
    "# Compare the two results\n",
    "\n",
    "for dist in [GT_dist,tf_dist]:\n",
    "    probabilities = []\n",
    "    for sample, label in zip(test_data, test_labels):\n",
    "        probabilities.append(predict_sample(dist, sample, priors))\n",
    "\n",
    "    probabilities = np.asarray(probabilities)\n",
    "    predicted_classes = np.argmax(probabilities, axis =-1)\n",
    "    print('f1 ', f1_score(test_labels, predicted_classes, average='macro'))"
   ]
  }
 ],
 "metadata": {
  "kernelspec": {
   "display_name": "Python 3",
   "language": "python",
   "name": "python3"
  },
  "language_info": {
   "codemirror_mode": {
    "name": "ipython",
    "version": 3
   },
   "file_extension": ".py",
   "mimetype": "text/x-python",
   "name": "python",
   "nbconvert_exporter": "python",
   "pygments_lexer": "ipython3",
   "version": "3.7.1"
  }
 },
 "nbformat": 4,
 "nbformat_minor": 4
}
